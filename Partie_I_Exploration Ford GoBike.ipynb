{
 "cells": [
  {
   "cell_type": "markdown",
   "id": "5d9d5573",
   "metadata": {},
   "source": [
    "# PARTIE I: EXPLORATION Ford GoBike \n",
    "\n",
    "## PAR: Ngan Desire\n"
   ]
  },
  {
   "cell_type": "markdown",
   "id": "454b56d6",
   "metadata": {},
   "source": [
    "## Introduction\n",
    "\n",
    "For Gobike est un service de velo-partage lancé par l'entreprise Ford dans la ville de San francisco.Un service de \n",
    "\n",
    "vélo partage met a la disposition du publique des velo gratuitement ou non.cette consommation permet de lever trois \n",
    "\n",
    "freins a la pratique du vélo:le stationnement à domicile,le vol et la maintenance de son vélo personnel.For Gobike \n",
    "\n",
    "permet de  retirer un velo d'une station et la déposer dans une autre.L'ensemble des données de For Gobike donne des \n",
    "\n",
    "informations tels que la station de départ(start_station_id), la station d'arrivée(end_station_id),la durée du \n",
    "\n",
    "trajet(duration_sec),ainsi que les informations concernant le membre(member_birth_year,member_gender) \n",
    "\n",
    "\n",
    "## Analyse préliminaire"
   ]
  },
  {
   "cell_type": "code",
   "execution_count": 1,
   "id": "3a3f87fe",
   "metadata": {},
   "outputs": [],
   "source": [
    "#Importation des différents packages\n",
    "import pandas as pd\n",
    "import numpy as np\n",
    "import matplotlib.pyplot as plt\n",
    "import seaborn as sn\n",
    "%matplotlib inline"
   ]
  },
  {
   "cell_type": "code",
   "execution_count": 2,
   "id": "9b9f8cce",
   "metadata": {},
   "outputs": [
    {
     "data": {
      "text/html": [
       "<div>\n",
       "<style scoped>\n",
       "    .dataframe tbody tr th:only-of-type {\n",
       "        vertical-align: middle;\n",
       "    }\n",
       "\n",
       "    .dataframe tbody tr th {\n",
       "        vertical-align: top;\n",
       "    }\n",
       "\n",
       "    .dataframe thead th {\n",
       "        text-align: right;\n",
       "    }\n",
       "</style>\n",
       "<table border=\"1\" class=\"dataframe\">\n",
       "  <thead>\n",
       "    <tr style=\"text-align: right;\">\n",
       "      <th></th>\n",
       "      <th>duration_sec</th>\n",
       "      <th>start_time</th>\n",
       "      <th>end_time</th>\n",
       "      <th>start_station_id</th>\n",
       "      <th>start_station_name</th>\n",
       "      <th>start_station_latitude</th>\n",
       "      <th>start_station_longitude</th>\n",
       "      <th>end_station_id</th>\n",
       "      <th>end_station_name</th>\n",
       "      <th>end_station_latitude</th>\n",
       "      <th>end_station_longitude</th>\n",
       "      <th>bike_id</th>\n",
       "      <th>user_type</th>\n",
       "      <th>member_birth_year</th>\n",
       "      <th>member_gender</th>\n",
       "      <th>bike_share_for_all_trip</th>\n",
       "    </tr>\n",
       "  </thead>\n",
       "  <tbody>\n",
       "    <tr>\n",
       "      <th>0</th>\n",
       "      <td>52185</td>\n",
       "      <td>2019-02-28 17:32:10.1450</td>\n",
       "      <td>2019-03-01 08:01:55.9750</td>\n",
       "      <td>21.0</td>\n",
       "      <td>Montgomery St BART Station (Market St at 2nd St)</td>\n",
       "      <td>37.789625</td>\n",
       "      <td>-122.400811</td>\n",
       "      <td>13.0</td>\n",
       "      <td>Commercial St at Montgomery St</td>\n",
       "      <td>37.794231</td>\n",
       "      <td>-122.402923</td>\n",
       "      <td>4902</td>\n",
       "      <td>Customer</td>\n",
       "      <td>1984.0</td>\n",
       "      <td>Male</td>\n",
       "      <td>No</td>\n",
       "    </tr>\n",
       "    <tr>\n",
       "      <th>1</th>\n",
       "      <td>42521</td>\n",
       "      <td>2019-02-28 18:53:21.7890</td>\n",
       "      <td>2019-03-01 06:42:03.0560</td>\n",
       "      <td>23.0</td>\n",
       "      <td>The Embarcadero at Steuart St</td>\n",
       "      <td>37.791464</td>\n",
       "      <td>-122.391034</td>\n",
       "      <td>81.0</td>\n",
       "      <td>Berry St at 4th St</td>\n",
       "      <td>37.775880</td>\n",
       "      <td>-122.393170</td>\n",
       "      <td>2535</td>\n",
       "      <td>Customer</td>\n",
       "      <td>NaN</td>\n",
       "      <td>NaN</td>\n",
       "      <td>No</td>\n",
       "    </tr>\n",
       "    <tr>\n",
       "      <th>2</th>\n",
       "      <td>61854</td>\n",
       "      <td>2019-02-28 12:13:13.2180</td>\n",
       "      <td>2019-03-01 05:24:08.1460</td>\n",
       "      <td>86.0</td>\n",
       "      <td>Market St at Dolores St</td>\n",
       "      <td>37.769305</td>\n",
       "      <td>-122.426826</td>\n",
       "      <td>3.0</td>\n",
       "      <td>Powell St BART Station (Market St at 4th St)</td>\n",
       "      <td>37.786375</td>\n",
       "      <td>-122.404904</td>\n",
       "      <td>5905</td>\n",
       "      <td>Customer</td>\n",
       "      <td>1972.0</td>\n",
       "      <td>Male</td>\n",
       "      <td>No</td>\n",
       "    </tr>\n",
       "    <tr>\n",
       "      <th>3</th>\n",
       "      <td>36490</td>\n",
       "      <td>2019-02-28 17:54:26.0100</td>\n",
       "      <td>2019-03-01 04:02:36.8420</td>\n",
       "      <td>375.0</td>\n",
       "      <td>Grove St at Masonic Ave</td>\n",
       "      <td>37.774836</td>\n",
       "      <td>-122.446546</td>\n",
       "      <td>70.0</td>\n",
       "      <td>Central Ave at Fell St</td>\n",
       "      <td>37.773311</td>\n",
       "      <td>-122.444293</td>\n",
       "      <td>6638</td>\n",
       "      <td>Subscriber</td>\n",
       "      <td>1989.0</td>\n",
       "      <td>Other</td>\n",
       "      <td>No</td>\n",
       "    </tr>\n",
       "    <tr>\n",
       "      <th>4</th>\n",
       "      <td>1585</td>\n",
       "      <td>2019-02-28 23:54:18.5490</td>\n",
       "      <td>2019-03-01 00:20:44.0740</td>\n",
       "      <td>7.0</td>\n",
       "      <td>Frank H Ogawa Plaza</td>\n",
       "      <td>37.804562</td>\n",
       "      <td>-122.271738</td>\n",
       "      <td>222.0</td>\n",
       "      <td>10th Ave at E 15th St</td>\n",
       "      <td>37.792714</td>\n",
       "      <td>-122.248780</td>\n",
       "      <td>4898</td>\n",
       "      <td>Subscriber</td>\n",
       "      <td>1974.0</td>\n",
       "      <td>Male</td>\n",
       "      <td>Yes</td>\n",
       "    </tr>\n",
       "    <tr>\n",
       "      <th>...</th>\n",
       "      <td>...</td>\n",
       "      <td>...</td>\n",
       "      <td>...</td>\n",
       "      <td>...</td>\n",
       "      <td>...</td>\n",
       "      <td>...</td>\n",
       "      <td>...</td>\n",
       "      <td>...</td>\n",
       "      <td>...</td>\n",
       "      <td>...</td>\n",
       "      <td>...</td>\n",
       "      <td>...</td>\n",
       "      <td>...</td>\n",
       "      <td>...</td>\n",
       "      <td>...</td>\n",
       "      <td>...</td>\n",
       "    </tr>\n",
       "    <tr>\n",
       "      <th>183407</th>\n",
       "      <td>480</td>\n",
       "      <td>2019-02-01 00:04:49.7240</td>\n",
       "      <td>2019-02-01 00:12:50.0340</td>\n",
       "      <td>27.0</td>\n",
       "      <td>Beale St at Harrison St</td>\n",
       "      <td>37.788059</td>\n",
       "      <td>-122.391865</td>\n",
       "      <td>324.0</td>\n",
       "      <td>Union Square (Powell St at Post St)</td>\n",
       "      <td>37.788300</td>\n",
       "      <td>-122.408531</td>\n",
       "      <td>4832</td>\n",
       "      <td>Subscriber</td>\n",
       "      <td>1996.0</td>\n",
       "      <td>Male</td>\n",
       "      <td>No</td>\n",
       "    </tr>\n",
       "    <tr>\n",
       "      <th>183408</th>\n",
       "      <td>313</td>\n",
       "      <td>2019-02-01 00:05:34.7440</td>\n",
       "      <td>2019-02-01 00:10:48.5020</td>\n",
       "      <td>21.0</td>\n",
       "      <td>Montgomery St BART Station (Market St at 2nd St)</td>\n",
       "      <td>37.789625</td>\n",
       "      <td>-122.400811</td>\n",
       "      <td>66.0</td>\n",
       "      <td>3rd St at Townsend St</td>\n",
       "      <td>37.778742</td>\n",
       "      <td>-122.392741</td>\n",
       "      <td>4960</td>\n",
       "      <td>Subscriber</td>\n",
       "      <td>1984.0</td>\n",
       "      <td>Male</td>\n",
       "      <td>No</td>\n",
       "    </tr>\n",
       "    <tr>\n",
       "      <th>183409</th>\n",
       "      <td>141</td>\n",
       "      <td>2019-02-01 00:06:05.5490</td>\n",
       "      <td>2019-02-01 00:08:27.2200</td>\n",
       "      <td>278.0</td>\n",
       "      <td>The Alameda at Bush St</td>\n",
       "      <td>37.331932</td>\n",
       "      <td>-121.904888</td>\n",
       "      <td>277.0</td>\n",
       "      <td>Morrison Ave at Julian St</td>\n",
       "      <td>37.333658</td>\n",
       "      <td>-121.908586</td>\n",
       "      <td>3824</td>\n",
       "      <td>Subscriber</td>\n",
       "      <td>1990.0</td>\n",
       "      <td>Male</td>\n",
       "      <td>Yes</td>\n",
       "    </tr>\n",
       "    <tr>\n",
       "      <th>183410</th>\n",
       "      <td>139</td>\n",
       "      <td>2019-02-01 00:05:34.3600</td>\n",
       "      <td>2019-02-01 00:07:54.2870</td>\n",
       "      <td>220.0</td>\n",
       "      <td>San Pablo Ave at MLK Jr Way</td>\n",
       "      <td>37.811351</td>\n",
       "      <td>-122.273422</td>\n",
       "      <td>216.0</td>\n",
       "      <td>San Pablo Ave at 27th St</td>\n",
       "      <td>37.817827</td>\n",
       "      <td>-122.275698</td>\n",
       "      <td>5095</td>\n",
       "      <td>Subscriber</td>\n",
       "      <td>1988.0</td>\n",
       "      <td>Male</td>\n",
       "      <td>No</td>\n",
       "    </tr>\n",
       "    <tr>\n",
       "      <th>183411</th>\n",
       "      <td>271</td>\n",
       "      <td>2019-02-01 00:00:20.6360</td>\n",
       "      <td>2019-02-01 00:04:52.0580</td>\n",
       "      <td>24.0</td>\n",
       "      <td>Spear St at Folsom St</td>\n",
       "      <td>37.789677</td>\n",
       "      <td>-122.390428</td>\n",
       "      <td>37.0</td>\n",
       "      <td>2nd St at Folsom St</td>\n",
       "      <td>37.785000</td>\n",
       "      <td>-122.395936</td>\n",
       "      <td>1057</td>\n",
       "      <td>Subscriber</td>\n",
       "      <td>1989.0</td>\n",
       "      <td>Male</td>\n",
       "      <td>No</td>\n",
       "    </tr>\n",
       "  </tbody>\n",
       "</table>\n",
       "<p>183412 rows × 16 columns</p>\n",
       "</div>"
      ],
      "text/plain": [
       "        duration_sec                start_time                  end_time  \\\n",
       "0              52185  2019-02-28 17:32:10.1450  2019-03-01 08:01:55.9750   \n",
       "1              42521  2019-02-28 18:53:21.7890  2019-03-01 06:42:03.0560   \n",
       "2              61854  2019-02-28 12:13:13.2180  2019-03-01 05:24:08.1460   \n",
       "3              36490  2019-02-28 17:54:26.0100  2019-03-01 04:02:36.8420   \n",
       "4               1585  2019-02-28 23:54:18.5490  2019-03-01 00:20:44.0740   \n",
       "...              ...                       ...                       ...   \n",
       "183407           480  2019-02-01 00:04:49.7240  2019-02-01 00:12:50.0340   \n",
       "183408           313  2019-02-01 00:05:34.7440  2019-02-01 00:10:48.5020   \n",
       "183409           141  2019-02-01 00:06:05.5490  2019-02-01 00:08:27.2200   \n",
       "183410           139  2019-02-01 00:05:34.3600  2019-02-01 00:07:54.2870   \n",
       "183411           271  2019-02-01 00:00:20.6360  2019-02-01 00:04:52.0580   \n",
       "\n",
       "        start_station_id                                start_station_name  \\\n",
       "0                   21.0  Montgomery St BART Station (Market St at 2nd St)   \n",
       "1                   23.0                     The Embarcadero at Steuart St   \n",
       "2                   86.0                           Market St at Dolores St   \n",
       "3                  375.0                           Grove St at Masonic Ave   \n",
       "4                    7.0                               Frank H Ogawa Plaza   \n",
       "...                  ...                                               ...   \n",
       "183407              27.0                           Beale St at Harrison St   \n",
       "183408              21.0  Montgomery St BART Station (Market St at 2nd St)   \n",
       "183409             278.0                            The Alameda at Bush St   \n",
       "183410             220.0                       San Pablo Ave at MLK Jr Way   \n",
       "183411              24.0                             Spear St at Folsom St   \n",
       "\n",
       "        start_station_latitude  start_station_longitude  end_station_id  \\\n",
       "0                    37.789625              -122.400811            13.0   \n",
       "1                    37.791464              -122.391034            81.0   \n",
       "2                    37.769305              -122.426826             3.0   \n",
       "3                    37.774836              -122.446546            70.0   \n",
       "4                    37.804562              -122.271738           222.0   \n",
       "...                        ...                      ...             ...   \n",
       "183407               37.788059              -122.391865           324.0   \n",
       "183408               37.789625              -122.400811            66.0   \n",
       "183409               37.331932              -121.904888           277.0   \n",
       "183410               37.811351              -122.273422           216.0   \n",
       "183411               37.789677              -122.390428            37.0   \n",
       "\n",
       "                                    end_station_name  end_station_latitude  \\\n",
       "0                     Commercial St at Montgomery St             37.794231   \n",
       "1                                 Berry St at 4th St             37.775880   \n",
       "2       Powell St BART Station (Market St at 4th St)             37.786375   \n",
       "3                             Central Ave at Fell St             37.773311   \n",
       "4                              10th Ave at E 15th St             37.792714   \n",
       "...                                              ...                   ...   \n",
       "183407           Union Square (Powell St at Post St)             37.788300   \n",
       "183408                         3rd St at Townsend St             37.778742   \n",
       "183409                     Morrison Ave at Julian St             37.333658   \n",
       "183410                      San Pablo Ave at 27th St             37.817827   \n",
       "183411                           2nd St at Folsom St             37.785000   \n",
       "\n",
       "        end_station_longitude  bike_id   user_type  member_birth_year  \\\n",
       "0                 -122.402923     4902    Customer             1984.0   \n",
       "1                 -122.393170     2535    Customer                NaN   \n",
       "2                 -122.404904     5905    Customer             1972.0   \n",
       "3                 -122.444293     6638  Subscriber             1989.0   \n",
       "4                 -122.248780     4898  Subscriber             1974.0   \n",
       "...                       ...      ...         ...                ...   \n",
       "183407            -122.408531     4832  Subscriber             1996.0   \n",
       "183408            -122.392741     4960  Subscriber             1984.0   \n",
       "183409            -121.908586     3824  Subscriber             1990.0   \n",
       "183410            -122.275698     5095  Subscriber             1988.0   \n",
       "183411            -122.395936     1057  Subscriber             1989.0   \n",
       "\n",
       "       member_gender bike_share_for_all_trip  \n",
       "0               Male                      No  \n",
       "1                NaN                      No  \n",
       "2               Male                      No  \n",
       "3              Other                      No  \n",
       "4               Male                     Yes  \n",
       "...              ...                     ...  \n",
       "183407          Male                      No  \n",
       "183408          Male                      No  \n",
       "183409          Male                     Yes  \n",
       "183410          Male                      No  \n",
       "183411          Male                      No  \n",
       "\n",
       "[183412 rows x 16 columns]"
      ]
     },
     "execution_count": 2,
     "metadata": {},
     "output_type": "execute_result"
    }
   ],
   "source": [
    "#Lecture du fichier csv Ford GoBike\n",
    "df=pd.read_csv('201902-fordgobike-tripdata.csv',sep=',')\n",
    "df"
   ]
  },
  {
   "cell_type": "code",
   "execution_count": 3,
   "id": "8f3c9b7c",
   "metadata": {},
   "outputs": [
    {
     "data": {
      "text/plain": [
       "(183412, 16)"
      ]
     },
     "execution_count": 3,
     "metadata": {},
     "output_type": "execute_result"
    }
   ],
   "source": [
    "#Taille de notre dataframe\n",
    "df.shape"
   ]
  },
  {
   "cell_type": "code",
   "execution_count": 4,
   "id": "13c2d639",
   "metadata": {},
   "outputs": [],
   "source": [
    "#Analysons un echantillon des données\n",
    "#Fonction permettant de renvoyer un echantillon de notre dataset\n",
    "def get_sample(df):\n",
    "    return df.sample(20)"
   ]
  },
  {
   "cell_type": "code",
   "execution_count": 5,
   "id": "e070233f",
   "metadata": {},
   "outputs": [
    {
     "data": {
      "text/html": [
       "<div>\n",
       "<style scoped>\n",
       "    .dataframe tbody tr th:only-of-type {\n",
       "        vertical-align: middle;\n",
       "    }\n",
       "\n",
       "    .dataframe tbody tr th {\n",
       "        vertical-align: top;\n",
       "    }\n",
       "\n",
       "    .dataframe thead th {\n",
       "        text-align: right;\n",
       "    }\n",
       "</style>\n",
       "<table border=\"1\" class=\"dataframe\">\n",
       "  <thead>\n",
       "    <tr style=\"text-align: right;\">\n",
       "      <th></th>\n",
       "      <th>duration_sec</th>\n",
       "      <th>start_time</th>\n",
       "      <th>end_time</th>\n",
       "      <th>start_station_id</th>\n",
       "      <th>start_station_name</th>\n",
       "      <th>start_station_latitude</th>\n",
       "      <th>start_station_longitude</th>\n",
       "      <th>end_station_id</th>\n",
       "      <th>end_station_name</th>\n",
       "      <th>end_station_latitude</th>\n",
       "      <th>end_station_longitude</th>\n",
       "      <th>bike_id</th>\n",
       "      <th>user_type</th>\n",
       "      <th>member_birth_year</th>\n",
       "      <th>member_gender</th>\n",
       "      <th>bike_share_for_all_trip</th>\n",
       "    </tr>\n",
       "  </thead>\n",
       "  <tbody>\n",
       "    <tr>\n",
       "      <th>39798</th>\n",
       "      <td>1452</td>\n",
       "      <td>2019-02-23 01:45:20.1350</td>\n",
       "      <td>2019-02-23 02:09:32.2590</td>\n",
       "      <td>321.0</td>\n",
       "      <td>5th St at Folsom</td>\n",
       "      <td>37.780146</td>\n",
       "      <td>-122.403071</td>\n",
       "      <td>62.0</td>\n",
       "      <td>Victoria Manalo Draves Park</td>\n",
       "      <td>37.777791</td>\n",
       "      <td>-122.406432</td>\n",
       "      <td>4717</td>\n",
       "      <td>Subscriber</td>\n",
       "      <td>1983.0</td>\n",
       "      <td>Male</td>\n",
       "      <td>No</td>\n",
       "    </tr>\n",
       "    <tr>\n",
       "      <th>109996</th>\n",
       "      <td>271</td>\n",
       "      <td>2019-02-12 18:26:34.6690</td>\n",
       "      <td>2019-02-12 18:31:06.5450</td>\n",
       "      <td>250.0</td>\n",
       "      <td>North Berkeley BART Station</td>\n",
       "      <td>37.873558</td>\n",
       "      <td>-122.283093</td>\n",
       "      <td>238.0</td>\n",
       "      <td>MLK Jr Way at University Ave</td>\n",
       "      <td>37.871719</td>\n",
       "      <td>-122.273068</td>\n",
       "      <td>4540</td>\n",
       "      <td>Subscriber</td>\n",
       "      <td>1957.0</td>\n",
       "      <td>Male</td>\n",
       "      <td>No</td>\n",
       "    </tr>\n",
       "    <tr>\n",
       "      <th>127252</th>\n",
       "      <td>2275</td>\n",
       "      <td>2019-02-10 15:52:56.2890</td>\n",
       "      <td>2019-02-10 16:30:52.1560</td>\n",
       "      <td>377.0</td>\n",
       "      <td>Fell St at Stanyan St</td>\n",
       "      <td>37.771917</td>\n",
       "      <td>-122.453704</td>\n",
       "      <td>377.0</td>\n",
       "      <td>Fell St at Stanyan St</td>\n",
       "      <td>37.771917</td>\n",
       "      <td>-122.453704</td>\n",
       "      <td>2721</td>\n",
       "      <td>Subscriber</td>\n",
       "      <td>1978.0</td>\n",
       "      <td>Male</td>\n",
       "      <td>No</td>\n",
       "    </tr>\n",
       "    <tr>\n",
       "      <th>138824</th>\n",
       "      <td>1235</td>\n",
       "      <td>2019-02-08 05:35:51.8050</td>\n",
       "      <td>2019-02-08 05:56:27.7530</td>\n",
       "      <td>10.0</td>\n",
       "      <td>Washington St at Kearny St</td>\n",
       "      <td>37.795393</td>\n",
       "      <td>-122.404770</td>\n",
       "      <td>132.0</td>\n",
       "      <td>24th St at Chattanooga St</td>\n",
       "      <td>37.751819</td>\n",
       "      <td>-122.426614</td>\n",
       "      <td>4750</td>\n",
       "      <td>Subscriber</td>\n",
       "      <td>1973.0</td>\n",
       "      <td>Male</td>\n",
       "      <td>Yes</td>\n",
       "    </tr>\n",
       "    <tr>\n",
       "      <th>154610</th>\n",
       "      <td>627</td>\n",
       "      <td>2019-02-06 09:31:57.8620</td>\n",
       "      <td>2019-02-06 09:42:25.6330</td>\n",
       "      <td>15.0</td>\n",
       "      <td>San Francisco Ferry Building (Harry Bridges Pl...</td>\n",
       "      <td>37.795392</td>\n",
       "      <td>-122.394203</td>\n",
       "      <td>66.0</td>\n",
       "      <td>3rd St at Townsend St</td>\n",
       "      <td>37.778742</td>\n",
       "      <td>-122.392741</td>\n",
       "      <td>3109</td>\n",
       "      <td>Subscriber</td>\n",
       "      <td>1991.0</td>\n",
       "      <td>Male</td>\n",
       "      <td>No</td>\n",
       "    </tr>\n",
       "    <tr>\n",
       "      <th>13476</th>\n",
       "      <td>438</td>\n",
       "      <td>2019-02-27 16:01:06.1370</td>\n",
       "      <td>2019-02-27 16:08:24.7830</td>\n",
       "      <td>90.0</td>\n",
       "      <td>Townsend St at 7th St</td>\n",
       "      <td>37.771058</td>\n",
       "      <td>-122.402717</td>\n",
       "      <td>27.0</td>\n",
       "      <td>Beale St at Harrison St</td>\n",
       "      <td>37.788059</td>\n",
       "      <td>-122.391865</td>\n",
       "      <td>4755</td>\n",
       "      <td>Subscriber</td>\n",
       "      <td>1987.0</td>\n",
       "      <td>Male</td>\n",
       "      <td>No</td>\n",
       "    </tr>\n",
       "    <tr>\n",
       "      <th>133274</th>\n",
       "      <td>441</td>\n",
       "      <td>2019-02-08 19:29:23.9560</td>\n",
       "      <td>2019-02-08 19:36:45.3750</td>\n",
       "      <td>164.0</td>\n",
       "      <td>Isabella St at San Pablo Ave</td>\n",
       "      <td>37.814988</td>\n",
       "      <td>-122.274844</td>\n",
       "      <td>7.0</td>\n",
       "      <td>Frank H Ogawa Plaza</td>\n",
       "      <td>37.804562</td>\n",
       "      <td>-122.271738</td>\n",
       "      <td>4861</td>\n",
       "      <td>Subscriber</td>\n",
       "      <td>1998.0</td>\n",
       "      <td>Female</td>\n",
       "      <td>Yes</td>\n",
       "    </tr>\n",
       "    <tr>\n",
       "      <th>81557</th>\n",
       "      <td>1365</td>\n",
       "      <td>2019-02-18 12:36:02.9750</td>\n",
       "      <td>2019-02-18 12:58:48.7880</td>\n",
       "      <td>91.0</td>\n",
       "      <td>Berry St at King St</td>\n",
       "      <td>37.771762</td>\n",
       "      <td>-122.398438</td>\n",
       "      <td>380.0</td>\n",
       "      <td>Masonic Ave at Turk St</td>\n",
       "      <td>37.779047</td>\n",
       "      <td>-122.447291</td>\n",
       "      <td>6499</td>\n",
       "      <td>Customer</td>\n",
       "      <td>1996.0</td>\n",
       "      <td>Female</td>\n",
       "      <td>No</td>\n",
       "    </tr>\n",
       "    <tr>\n",
       "      <th>154594</th>\n",
       "      <td>214</td>\n",
       "      <td>2019-02-06 09:40:13.2200</td>\n",
       "      <td>2019-02-06 09:43:47.4720</td>\n",
       "      <td>67.0</td>\n",
       "      <td>San Francisco Caltrain Station 2  (Townsend St...</td>\n",
       "      <td>37.776639</td>\n",
       "      <td>-122.395526</td>\n",
       "      <td>66.0</td>\n",
       "      <td>3rd St at Townsend St</td>\n",
       "      <td>37.778742</td>\n",
       "      <td>-122.392741</td>\n",
       "      <td>746</td>\n",
       "      <td>Subscriber</td>\n",
       "      <td>1979.0</td>\n",
       "      <td>Male</td>\n",
       "      <td>No</td>\n",
       "    </tr>\n",
       "    <tr>\n",
       "      <th>3419</th>\n",
       "      <td>687</td>\n",
       "      <td>2019-02-28 17:12:38.6070</td>\n",
       "      <td>2019-02-28 17:24:06.4240</td>\n",
       "      <td>80.0</td>\n",
       "      <td>Townsend St at 5th St</td>\n",
       "      <td>37.775235</td>\n",
       "      <td>-122.397437</td>\n",
       "      <td>44.0</td>\n",
       "      <td>Civic Center/UN Plaza BART Station (Market St ...</td>\n",
       "      <td>37.781074</td>\n",
       "      <td>-122.411738</td>\n",
       "      <td>5492</td>\n",
       "      <td>Subscriber</td>\n",
       "      <td>1965.0</td>\n",
       "      <td>Male</td>\n",
       "      <td>No</td>\n",
       "    </tr>\n",
       "    <tr>\n",
       "      <th>171349</th>\n",
       "      <td>407</td>\n",
       "      <td>2019-02-03 21:13:10.8830</td>\n",
       "      <td>2019-02-03 21:19:58.1470</td>\n",
       "      <td>90.0</td>\n",
       "      <td>Townsend St at 7th St</td>\n",
       "      <td>37.771058</td>\n",
       "      <td>-122.402717</td>\n",
       "      <td>116.0</td>\n",
       "      <td>Mississippi St at 17th St</td>\n",
       "      <td>37.764802</td>\n",
       "      <td>-122.394771</td>\n",
       "      <td>4803</td>\n",
       "      <td>Subscriber</td>\n",
       "      <td>1987.0</td>\n",
       "      <td>Male</td>\n",
       "      <td>No</td>\n",
       "    </tr>\n",
       "    <tr>\n",
       "      <th>149155</th>\n",
       "      <td>225</td>\n",
       "      <td>2019-02-06 19:55:01.2600</td>\n",
       "      <td>2019-02-06 19:58:47.1720</td>\n",
       "      <td>122.0</td>\n",
       "      <td>19th St at Mission St</td>\n",
       "      <td>37.760299</td>\n",
       "      <td>-122.418892</td>\n",
       "      <td>109.0</td>\n",
       "      <td>17th St at Valencia St</td>\n",
       "      <td>37.763316</td>\n",
       "      <td>-122.421904</td>\n",
       "      <td>5505</td>\n",
       "      <td>Subscriber</td>\n",
       "      <td>1975.0</td>\n",
       "      <td>Male</td>\n",
       "      <td>No</td>\n",
       "    </tr>\n",
       "    <tr>\n",
       "      <th>141679</th>\n",
       "      <td>421</td>\n",
       "      <td>2019-02-07 17:48:21.6290</td>\n",
       "      <td>2019-02-07 17:55:22.8890</td>\n",
       "      <td>129.0</td>\n",
       "      <td>Harrison St at 20th St</td>\n",
       "      <td>37.758862</td>\n",
       "      <td>-122.412544</td>\n",
       "      <td>99.0</td>\n",
       "      <td>Folsom St at 15th St</td>\n",
       "      <td>37.767037</td>\n",
       "      <td>-122.415442</td>\n",
       "      <td>5025</td>\n",
       "      <td>Subscriber</td>\n",
       "      <td>1993.0</td>\n",
       "      <td>Male</td>\n",
       "      <td>No</td>\n",
       "    </tr>\n",
       "    <tr>\n",
       "      <th>14988</th>\n",
       "      <td>452</td>\n",
       "      <td>2019-02-27 10:22:35.0060</td>\n",
       "      <td>2019-02-27 10:30:07.9160</td>\n",
       "      <td>90.0</td>\n",
       "      <td>Townsend St at 7th St</td>\n",
       "      <td>37.771058</td>\n",
       "      <td>-122.402717</td>\n",
       "      <td>36.0</td>\n",
       "      <td>Folsom St at 3rd St</td>\n",
       "      <td>37.783830</td>\n",
       "      <td>-122.398870</td>\n",
       "      <td>6638</td>\n",
       "      <td>Subscriber</td>\n",
       "      <td>1988.0</td>\n",
       "      <td>Male</td>\n",
       "      <td>No</td>\n",
       "    </tr>\n",
       "    <tr>\n",
       "      <th>9846</th>\n",
       "      <td>167</td>\n",
       "      <td>2019-02-27 23:56:08.5130</td>\n",
       "      <td>2019-02-27 23:58:56.3080</td>\n",
       "      <td>368.0</td>\n",
       "      <td>Myrtle St at Polk St</td>\n",
       "      <td>37.785434</td>\n",
       "      <td>-122.419622</td>\n",
       "      <td>43.0</td>\n",
       "      <td>San Francisco Public Library (Grove St at Hyde...</td>\n",
       "      <td>37.778768</td>\n",
       "      <td>-122.415929</td>\n",
       "      <td>6332</td>\n",
       "      <td>Subscriber</td>\n",
       "      <td>1980.0</td>\n",
       "      <td>Other</td>\n",
       "      <td>Yes</td>\n",
       "    </tr>\n",
       "    <tr>\n",
       "      <th>22084</th>\n",
       "      <td>659</td>\n",
       "      <td>2019-02-26 08:30:11.3420</td>\n",
       "      <td>2019-02-26 08:41:10.9730</td>\n",
       "      <td>93.0</td>\n",
       "      <td>4th St at Mission Bay Blvd S</td>\n",
       "      <td>37.770407</td>\n",
       "      <td>-122.391198</td>\n",
       "      <td>16.0</td>\n",
       "      <td>Steuart St at Market St</td>\n",
       "      <td>37.794130</td>\n",
       "      <td>-122.394430</td>\n",
       "      <td>5400</td>\n",
       "      <td>Subscriber</td>\n",
       "      <td>1988.0</td>\n",
       "      <td>Male</td>\n",
       "      <td>No</td>\n",
       "    </tr>\n",
       "    <tr>\n",
       "      <th>170842</th>\n",
       "      <td>645</td>\n",
       "      <td>2019-02-04 07:32:34.4330</td>\n",
       "      <td>2019-02-04 07:43:19.8550</td>\n",
       "      <td>119.0</td>\n",
       "      <td>18th St at Noe St</td>\n",
       "      <td>37.761047</td>\n",
       "      <td>-122.432642</td>\n",
       "      <td>129.0</td>\n",
       "      <td>Harrison St at 20th St</td>\n",
       "      <td>37.758862</td>\n",
       "      <td>-122.412544</td>\n",
       "      <td>1620</td>\n",
       "      <td>Subscriber</td>\n",
       "      <td>1993.0</td>\n",
       "      <td>Female</td>\n",
       "      <td>No</td>\n",
       "    </tr>\n",
       "    <tr>\n",
       "      <th>60542</th>\n",
       "      <td>422</td>\n",
       "      <td>2019-02-20 18:32:36.2740</td>\n",
       "      <td>2019-02-20 18:39:38.7470</td>\n",
       "      <td>95.0</td>\n",
       "      <td>Sanchez St at 15th St</td>\n",
       "      <td>37.766219</td>\n",
       "      <td>-122.431060</td>\n",
       "      <td>70.0</td>\n",
       "      <td>Central Ave at Fell St</td>\n",
       "      <td>37.773311</td>\n",
       "      <td>-122.444293</td>\n",
       "      <td>4616</td>\n",
       "      <td>Subscriber</td>\n",
       "      <td>1984.0</td>\n",
       "      <td>Male</td>\n",
       "      <td>No</td>\n",
       "    </tr>\n",
       "    <tr>\n",
       "      <th>130401</th>\n",
       "      <td>518</td>\n",
       "      <td>2019-02-09 17:40:15.8800</td>\n",
       "      <td>2019-02-09 17:48:54.8250</td>\n",
       "      <td>50.0</td>\n",
       "      <td>2nd St at Townsend St</td>\n",
       "      <td>37.780526</td>\n",
       "      <td>-122.390288</td>\n",
       "      <td>88.0</td>\n",
       "      <td>11th St at Bryant St</td>\n",
       "      <td>37.770030</td>\n",
       "      <td>-122.411726</td>\n",
       "      <td>4624</td>\n",
       "      <td>Subscriber</td>\n",
       "      <td>1992.0</td>\n",
       "      <td>Male</td>\n",
       "      <td>No</td>\n",
       "    </tr>\n",
       "    <tr>\n",
       "      <th>49275</th>\n",
       "      <td>963</td>\n",
       "      <td>2019-02-21 22:17:15.6350</td>\n",
       "      <td>2019-02-21 22:33:19.3250</td>\n",
       "      <td>10.0</td>\n",
       "      <td>Washington St at Kearny St</td>\n",
       "      <td>37.795393</td>\n",
       "      <td>-122.404770</td>\n",
       "      <td>87.0</td>\n",
       "      <td>Folsom St at 13th St</td>\n",
       "      <td>37.769757</td>\n",
       "      <td>-122.415674</td>\n",
       "      <td>4946</td>\n",
       "      <td>Subscriber</td>\n",
       "      <td>1989.0</td>\n",
       "      <td>Female</td>\n",
       "      <td>No</td>\n",
       "    </tr>\n",
       "  </tbody>\n",
       "</table>\n",
       "</div>"
      ],
      "text/plain": [
       "        duration_sec                start_time                  end_time  \\\n",
       "39798           1452  2019-02-23 01:45:20.1350  2019-02-23 02:09:32.2590   \n",
       "109996           271  2019-02-12 18:26:34.6690  2019-02-12 18:31:06.5450   \n",
       "127252          2275  2019-02-10 15:52:56.2890  2019-02-10 16:30:52.1560   \n",
       "138824          1235  2019-02-08 05:35:51.8050  2019-02-08 05:56:27.7530   \n",
       "154610           627  2019-02-06 09:31:57.8620  2019-02-06 09:42:25.6330   \n",
       "13476            438  2019-02-27 16:01:06.1370  2019-02-27 16:08:24.7830   \n",
       "133274           441  2019-02-08 19:29:23.9560  2019-02-08 19:36:45.3750   \n",
       "81557           1365  2019-02-18 12:36:02.9750  2019-02-18 12:58:48.7880   \n",
       "154594           214  2019-02-06 09:40:13.2200  2019-02-06 09:43:47.4720   \n",
       "3419             687  2019-02-28 17:12:38.6070  2019-02-28 17:24:06.4240   \n",
       "171349           407  2019-02-03 21:13:10.8830  2019-02-03 21:19:58.1470   \n",
       "149155           225  2019-02-06 19:55:01.2600  2019-02-06 19:58:47.1720   \n",
       "141679           421  2019-02-07 17:48:21.6290  2019-02-07 17:55:22.8890   \n",
       "14988            452  2019-02-27 10:22:35.0060  2019-02-27 10:30:07.9160   \n",
       "9846             167  2019-02-27 23:56:08.5130  2019-02-27 23:58:56.3080   \n",
       "22084            659  2019-02-26 08:30:11.3420  2019-02-26 08:41:10.9730   \n",
       "170842           645  2019-02-04 07:32:34.4330  2019-02-04 07:43:19.8550   \n",
       "60542            422  2019-02-20 18:32:36.2740  2019-02-20 18:39:38.7470   \n",
       "130401           518  2019-02-09 17:40:15.8800  2019-02-09 17:48:54.8250   \n",
       "49275            963  2019-02-21 22:17:15.6350  2019-02-21 22:33:19.3250   \n",
       "\n",
       "        start_station_id                                 start_station_name  \\\n",
       "39798              321.0                                   5th St at Folsom   \n",
       "109996             250.0                        North Berkeley BART Station   \n",
       "127252             377.0                              Fell St at Stanyan St   \n",
       "138824              10.0                         Washington St at Kearny St   \n",
       "154610              15.0  San Francisco Ferry Building (Harry Bridges Pl...   \n",
       "13476               90.0                              Townsend St at 7th St   \n",
       "133274             164.0                       Isabella St at San Pablo Ave   \n",
       "81557               91.0                                Berry St at King St   \n",
       "154594              67.0  San Francisco Caltrain Station 2  (Townsend St...   \n",
       "3419                80.0                              Townsend St at 5th St   \n",
       "171349              90.0                              Townsend St at 7th St   \n",
       "149155             122.0                              19th St at Mission St   \n",
       "141679             129.0                             Harrison St at 20th St   \n",
       "14988               90.0                              Townsend St at 7th St   \n",
       "9846               368.0                               Myrtle St at Polk St   \n",
       "22084               93.0                       4th St at Mission Bay Blvd S   \n",
       "170842             119.0                                  18th St at Noe St   \n",
       "60542               95.0                              Sanchez St at 15th St   \n",
       "130401              50.0                              2nd St at Townsend St   \n",
       "49275               10.0                         Washington St at Kearny St   \n",
       "\n",
       "        start_station_latitude  start_station_longitude  end_station_id  \\\n",
       "39798                37.780146              -122.403071            62.0   \n",
       "109996               37.873558              -122.283093           238.0   \n",
       "127252               37.771917              -122.453704           377.0   \n",
       "138824               37.795393              -122.404770           132.0   \n",
       "154610               37.795392              -122.394203            66.0   \n",
       "13476                37.771058              -122.402717            27.0   \n",
       "133274               37.814988              -122.274844             7.0   \n",
       "81557                37.771762              -122.398438           380.0   \n",
       "154594               37.776639              -122.395526            66.0   \n",
       "3419                 37.775235              -122.397437            44.0   \n",
       "171349               37.771058              -122.402717           116.0   \n",
       "149155               37.760299              -122.418892           109.0   \n",
       "141679               37.758862              -122.412544            99.0   \n",
       "14988                37.771058              -122.402717            36.0   \n",
       "9846                 37.785434              -122.419622            43.0   \n",
       "22084                37.770407              -122.391198            16.0   \n",
       "170842               37.761047              -122.432642           129.0   \n",
       "60542                37.766219              -122.431060            70.0   \n",
       "130401               37.780526              -122.390288            88.0   \n",
       "49275                37.795393              -122.404770            87.0   \n",
       "\n",
       "                                         end_station_name  \\\n",
       "39798                         Victoria Manalo Draves Park   \n",
       "109996                       MLK Jr Way at University Ave   \n",
       "127252                              Fell St at Stanyan St   \n",
       "138824                          24th St at Chattanooga St   \n",
       "154610                              3rd St at Townsend St   \n",
       "13476                             Beale St at Harrison St   \n",
       "133274                                Frank H Ogawa Plaza   \n",
       "81557                              Masonic Ave at Turk St   \n",
       "154594                              3rd St at Townsend St   \n",
       "3419    Civic Center/UN Plaza BART Station (Market St ...   \n",
       "171349                          Mississippi St at 17th St   \n",
       "149155                             17th St at Valencia St   \n",
       "141679                               Folsom St at 15th St   \n",
       "14988                                 Folsom St at 3rd St   \n",
       "9846    San Francisco Public Library (Grove St at Hyde...   \n",
       "22084                             Steuart St at Market St   \n",
       "170842                             Harrison St at 20th St   \n",
       "60542                              Central Ave at Fell St   \n",
       "130401                               11th St at Bryant St   \n",
       "49275                                Folsom St at 13th St   \n",
       "\n",
       "        end_station_latitude  end_station_longitude  bike_id   user_type  \\\n",
       "39798              37.777791            -122.406432     4717  Subscriber   \n",
       "109996             37.871719            -122.273068     4540  Subscriber   \n",
       "127252             37.771917            -122.453704     2721  Subscriber   \n",
       "138824             37.751819            -122.426614     4750  Subscriber   \n",
       "154610             37.778742            -122.392741     3109  Subscriber   \n",
       "13476              37.788059            -122.391865     4755  Subscriber   \n",
       "133274             37.804562            -122.271738     4861  Subscriber   \n",
       "81557              37.779047            -122.447291     6499    Customer   \n",
       "154594             37.778742            -122.392741      746  Subscriber   \n",
       "3419               37.781074            -122.411738     5492  Subscriber   \n",
       "171349             37.764802            -122.394771     4803  Subscriber   \n",
       "149155             37.763316            -122.421904     5505  Subscriber   \n",
       "141679             37.767037            -122.415442     5025  Subscriber   \n",
       "14988              37.783830            -122.398870     6638  Subscriber   \n",
       "9846               37.778768            -122.415929     6332  Subscriber   \n",
       "22084              37.794130            -122.394430     5400  Subscriber   \n",
       "170842             37.758862            -122.412544     1620  Subscriber   \n",
       "60542              37.773311            -122.444293     4616  Subscriber   \n",
       "130401             37.770030            -122.411726     4624  Subscriber   \n",
       "49275              37.769757            -122.415674     4946  Subscriber   \n",
       "\n",
       "        member_birth_year member_gender bike_share_for_all_trip  \n",
       "39798              1983.0          Male                      No  \n",
       "109996             1957.0          Male                      No  \n",
       "127252             1978.0          Male                      No  \n",
       "138824             1973.0          Male                     Yes  \n",
       "154610             1991.0          Male                      No  \n",
       "13476              1987.0          Male                      No  \n",
       "133274             1998.0        Female                     Yes  \n",
       "81557              1996.0        Female                      No  \n",
       "154594             1979.0          Male                      No  \n",
       "3419               1965.0          Male                      No  \n",
       "171349             1987.0          Male                      No  \n",
       "149155             1975.0          Male                      No  \n",
       "141679             1993.0          Male                      No  \n",
       "14988              1988.0          Male                      No  \n",
       "9846               1980.0         Other                     Yes  \n",
       "22084              1988.0          Male                      No  \n",
       "170842             1993.0        Female                      No  \n",
       "60542              1984.0          Male                      No  \n",
       "130401             1992.0          Male                      No  \n",
       "49275              1989.0        Female                      No  "
      ]
     },
     "execution_count": 5,
     "metadata": {},
     "output_type": "execute_result"
    }
   ],
   "source": [
    "get_sample(df)"
   ]
  },
  {
   "cell_type": "code",
   "execution_count": 6,
   "id": "1ccb0736",
   "metadata": {},
   "outputs": [
    {
     "name": "stdout",
     "output_type": "stream",
     "text": [
      "<class 'pandas.core.frame.DataFrame'>\n",
      "RangeIndex: 183412 entries, 0 to 183411\n",
      "Data columns (total 16 columns):\n",
      " #   Column                   Non-Null Count   Dtype  \n",
      "---  ------                   --------------   -----  \n",
      " 0   duration_sec             183412 non-null  int64  \n",
      " 1   start_time               183412 non-null  object \n",
      " 2   end_time                 183412 non-null  object \n",
      " 3   start_station_id         183215 non-null  float64\n",
      " 4   start_station_name       183215 non-null  object \n",
      " 5   start_station_latitude   183412 non-null  float64\n",
      " 6   start_station_longitude  183412 non-null  float64\n",
      " 7   end_station_id           183215 non-null  float64\n",
      " 8   end_station_name         183215 non-null  object \n",
      " 9   end_station_latitude     183412 non-null  float64\n",
      " 10  end_station_longitude    183412 non-null  float64\n",
      " 11  bike_id                  183412 non-null  int64  \n",
      " 12  user_type                183412 non-null  object \n",
      " 13  member_birth_year        175147 non-null  float64\n",
      " 14  member_gender            175147 non-null  object \n",
      " 15  bike_share_for_all_trip  183412 non-null  object \n",
      "dtypes: float64(7), int64(2), object(7)\n",
      "memory usage: 22.4+ MB\n"
     ]
    }
   ],
   "source": [
    "#Informations sur les attributs des différentes colonnes\n",
    "df.info()"
   ]
  },
  {
   "cell_type": "markdown",
   "id": "6d5a72aa",
   "metadata": {},
   "source": [
    "### Quel est la structure de vos données?\n",
    "\n",
    "- Le jeu de données **Ford GoBike** est constitué de 183412 échantillions(lignes) et de 16 colonnes.les colonnes sont constituées des noms de colonnes suivants:duration_sec,start_time,end_time,start_station_id,start_station_name , start_station_latitude,start_station_longitude,bike_id,user_type,member_birth_year,member_gender,bike_share_for_all_trip \n",
    "\n",
    "### Quelle(s) est/sont la/les principale(s) caractéristique(s) d'intérêt dans votre jeu de données ?\n",
    "\n",
    "- Notre variable d'interet ici est le genre des participants(**member_gender**) car nous allons essayé de determiner les crières de segmentation des membres suivant les genres afin de mieux ajuster eventuellement les actions marketing.Nous allons pour se faire tenter de comprendre le comportement de consommation  de chaque genre(homme,femme et autres).\n",
    "\n",
    "### Selon vous, quelles colonnes de l'ensemble de données vous aideront à étayer votre enquête sur les colonnes qui vous intéressent?\n",
    "- Les  colonnes necessaires a notre investigation seront les suivantes: la durée des courses(duration_sec),la distance parcourue par les participants distance_travel(issue du calcul a partir des attributs start_station_latitude,start_station_longitude,end_station_latitude,end_station_longitude),bike_id,user_type,age_member(issue de member_birth_year) et enfin bike_share_for_all_trip.\n"
   ]
  },
  {
   "cell_type": "code",
   "execution_count": 7,
   "id": "a5af05a6",
   "metadata": {},
   "outputs": [
    {
     "data": {
      "text/plain": [
       "duration_sec                  0\n",
       "start_time                    0\n",
       "end_time                      0\n",
       "start_station_id            197\n",
       "start_station_name          197\n",
       "start_station_latitude        0\n",
       "start_station_longitude       0\n",
       "end_station_id              197\n",
       "end_station_name            197\n",
       "end_station_latitude          0\n",
       "end_station_longitude         0\n",
       "bike_id                       0\n",
       "user_type                     0\n",
       "member_birth_year          8265\n",
       "member_gender              8265\n",
       "bike_share_for_all_trip       0\n",
       "dtype: int64"
      ]
     },
     "execution_count": 7,
     "metadata": {},
     "output_type": "execute_result"
    }
   ],
   "source": [
    "#Evaluation des valeurs nulles \n",
    "df.isna().sum()"
   ]
  },
  {
   "cell_type": "code",
   "execution_count": 8,
   "id": "da247ad8",
   "metadata": {},
   "outputs": [
    {
     "data": {
      "text/plain": [
       "0"
      ]
     },
     "execution_count": 8,
     "metadata": {},
     "output_type": "execute_result"
    }
   ],
   "source": [
    "#Evaluation des valeurs dupliquées\n",
    "df.duplicated().sum()"
   ]
  },
  {
   "cell_type": "markdown",
   "id": "0aa824d9",
   "metadata": {},
   "source": [
    "Aucune ligne n'est dupliquée"
   ]
  },
  {
   "cell_type": "markdown",
   "id": "050fc9cd",
   "metadata": {},
   "source": [
    "### Evaluation de la qualité  et l'ordre des données:\n",
    "\n",
    "- Présence des valeurs manquantes Les attributs start_station_id, start_station_name, end_station_name ,end_station_name\n",
    "\n",
    "- Les attributs start_time,end_time sont du type objet au lieu de datetime\n",
    "\n",
    "- Les colonnes qui ne nous serviront pas seront éliminées:start_station_name, end_station_name \n",
    "\n",
    "- Calculer les ages à partir de la date de naissance des membres.\n",
    "\n",
    "- Calculer la distance parcourue entre 2 points a partir des attributs start_station_latitude,start_station_longitude,end_station_latitude,end_station_longitude\n",
    "\n",
    "- Changer les types de start_station_id,end_station_id en integer\n",
    "\n",
    "- Créer des colonnes start_date_time,end_date_time,start_hours_time,end_hour_time \n"
   ]
  },
  {
   "cell_type": "markdown",
   "id": "87d5501d",
   "metadata": {},
   "source": [
    "- **Suppression des valeurs manquantes dans la dataframe**"
   ]
  },
  {
   "cell_type": "code",
   "execution_count": 9,
   "id": "d1cae127",
   "metadata": {},
   "outputs": [],
   "source": [
    "#Faisons une copie de la dataframe\n",
    "df_copy=df.copy()"
   ]
  },
  {
   "cell_type": "code",
   "execution_count": 10,
   "id": "1d669ff5",
   "metadata": {},
   "outputs": [],
   "source": [
    "#Suppressions des lignes avec les valeurs nulles\n",
    "df_copy.dropna(inplace=True)"
   ]
  },
  {
   "cell_type": "code",
   "execution_count": 11,
   "id": "bad0a28a",
   "metadata": {},
   "outputs": [
    {
     "data": {
      "text/plain": [
       "duration_sec               0\n",
       "start_time                 0\n",
       "end_time                   0\n",
       "start_station_id           0\n",
       "start_station_name         0\n",
       "start_station_latitude     0\n",
       "start_station_longitude    0\n",
       "end_station_id             0\n",
       "end_station_name           0\n",
       "end_station_latitude       0\n",
       "end_station_longitude      0\n",
       "bike_id                    0\n",
       "user_type                  0\n",
       "member_birth_year          0\n",
       "member_gender              0\n",
       "bike_share_for_all_trip    0\n",
       "dtype: int64"
      ]
     },
     "execution_count": 11,
     "metadata": {},
     "output_type": "execute_result"
    }
   ],
   "source": [
    "#Verifications que toutes les valeurs nulles ont été supprimées\n",
    "df_copy.isna().sum()"
   ]
  },
  {
   "cell_type": "markdown",
   "id": "7ddf8771",
   "metadata": {},
   "source": [
    "- **Les attributs start_time,end_time sont du type objet au lieu de datetime**"
   ]
  },
  {
   "cell_type": "code",
   "execution_count": 12,
   "id": "bece50d6",
   "metadata": {},
   "outputs": [],
   "source": [
    "#Suppresion de la partie microseconde qui ne nous sert pas des colonnes start_time,end_time\n",
    "df_copy['start_time']=df_copy['start_time'].apply(lambda x:x.split(\".\")[0])"
   ]
  },
  {
   "cell_type": "code",
   "execution_count": 13,
   "id": "0562335c",
   "metadata": {},
   "outputs": [],
   "source": [
    "df_copy['end_time']=df_copy['end_time'].apply(lambda x:x.split(\".\")[0])"
   ]
  },
  {
   "cell_type": "code",
   "execution_count": 14,
   "id": "3765f397",
   "metadata": {},
   "outputs": [],
   "source": [
    "#Convertion du type objet start_time en datetime\n",
    "df_copy['start_time']=pd.to_datetime(df_copy['start_time'])"
   ]
  },
  {
   "cell_type": "code",
   "execution_count": 15,
   "id": "3bee381b",
   "metadata": {},
   "outputs": [],
   "source": [
    "#convertion du type objet end_time en datetime\n",
    "df_copy['end_time']= pd.to_datetime(df_copy['end_time'])"
   ]
  },
  {
   "cell_type": "code",
   "execution_count": 16,
   "id": "b79ebfde",
   "metadata": {},
   "outputs": [
    {
     "name": "stdout",
     "output_type": "stream",
     "text": [
      "<class 'pandas.core.frame.DataFrame'>\n",
      "Int64Index: 174952 entries, 0 to 183411\n",
      "Data columns (total 16 columns):\n",
      " #   Column                   Non-Null Count   Dtype         \n",
      "---  ------                   --------------   -----         \n",
      " 0   duration_sec             174952 non-null  int64         \n",
      " 1   start_time               174952 non-null  datetime64[ns]\n",
      " 2   end_time                 174952 non-null  datetime64[ns]\n",
      " 3   start_station_id         174952 non-null  float64       \n",
      " 4   start_station_name       174952 non-null  object        \n",
      " 5   start_station_latitude   174952 non-null  float64       \n",
      " 6   start_station_longitude  174952 non-null  float64       \n",
      " 7   end_station_id           174952 non-null  float64       \n",
      " 8   end_station_name         174952 non-null  object        \n",
      " 9   end_station_latitude     174952 non-null  float64       \n",
      " 10  end_station_longitude    174952 non-null  float64       \n",
      " 11  bike_id                  174952 non-null  int64         \n",
      " 12  user_type                174952 non-null  object        \n",
      " 13  member_birth_year        174952 non-null  float64       \n",
      " 14  member_gender            174952 non-null  object        \n",
      " 15  bike_share_for_all_trip  174952 non-null  object        \n",
      "dtypes: datetime64[ns](2), float64(7), int64(2), object(5)\n",
      "memory usage: 22.7+ MB\n"
     ]
    }
   ],
   "source": [
    "df_copy.info()"
   ]
  },
  {
   "cell_type": "markdown",
   "id": "6dc1b356",
   "metadata": {},
   "source": [
    "- **Les colonnes qui ne nous serviront pas seront éliminées:start_station_name, end_station_name** "
   ]
  },
  {
   "cell_type": "code",
   "execution_count": 17,
   "id": "d3fe3aab",
   "metadata": {},
   "outputs": [],
   "source": [
    "#Elimination des colonnes start_station_name, end_station_name\n",
    "df_copy.drop(df_copy.columns[[4,8]],axis=1,inplace=True)"
   ]
  },
  {
   "cell_type": "code",
   "execution_count": 18,
   "id": "2d407052",
   "metadata": {},
   "outputs": [
    {
     "name": "stdout",
     "output_type": "stream",
     "text": [
      "<class 'pandas.core.frame.DataFrame'>\n",
      "Int64Index: 174952 entries, 0 to 183411\n",
      "Data columns (total 14 columns):\n",
      " #   Column                   Non-Null Count   Dtype         \n",
      "---  ------                   --------------   -----         \n",
      " 0   duration_sec             174952 non-null  int64         \n",
      " 1   start_time               174952 non-null  datetime64[ns]\n",
      " 2   end_time                 174952 non-null  datetime64[ns]\n",
      " 3   start_station_id         174952 non-null  float64       \n",
      " 4   start_station_latitude   174952 non-null  float64       \n",
      " 5   start_station_longitude  174952 non-null  float64       \n",
      " 6   end_station_id           174952 non-null  float64       \n",
      " 7   end_station_latitude     174952 non-null  float64       \n",
      " 8   end_station_longitude    174952 non-null  float64       \n",
      " 9   bike_id                  174952 non-null  int64         \n",
      " 10  user_type                174952 non-null  object        \n",
      " 11  member_birth_year        174952 non-null  float64       \n",
      " 12  member_gender            174952 non-null  object        \n",
      " 13  bike_share_for_all_trip  174952 non-null  object        \n",
      "dtypes: datetime64[ns](2), float64(7), int64(2), object(3)\n",
      "memory usage: 20.0+ MB\n"
     ]
    }
   ],
   "source": [
    "df_copy.info()"
   ]
  },
  {
   "cell_type": "markdown",
   "id": "af2593d0",
   "metadata": {},
   "source": [
    "- **Calculer les ages à partir de la date de naissance des membres**"
   ]
  },
  {
   "cell_type": "code",
   "execution_count": 19,
   "id": "8f38c983",
   "metadata": {},
   "outputs": [],
   "source": [
    "#Calcul des ages de naissance des membres\n",
    "#L'age de réference sera 2022\n",
    "#Fonction permettant la soustraction de la date actuelle par l'age\n",
    "def substract(b):\n",
    "    return 2022-b\n",
    "\n",
    "df_copy['age_member']=df_copy.apply(lambda f:substract(f['member_birth_year']),axis=1)"
   ]
  },
  {
   "cell_type": "code",
   "execution_count": 20,
   "id": "2e1a8416",
   "metadata": {},
   "outputs": [
    {
     "data": {
      "text/html": [
       "<div>\n",
       "<style scoped>\n",
       "    .dataframe tbody tr th:only-of-type {\n",
       "        vertical-align: middle;\n",
       "    }\n",
       "\n",
       "    .dataframe tbody tr th {\n",
       "        vertical-align: top;\n",
       "    }\n",
       "\n",
       "    .dataframe thead th {\n",
       "        text-align: right;\n",
       "    }\n",
       "</style>\n",
       "<table border=\"1\" class=\"dataframe\">\n",
       "  <thead>\n",
       "    <tr style=\"text-align: right;\">\n",
       "      <th></th>\n",
       "      <th>duration_sec</th>\n",
       "      <th>start_time</th>\n",
       "      <th>end_time</th>\n",
       "      <th>start_station_id</th>\n",
       "      <th>start_station_latitude</th>\n",
       "      <th>start_station_longitude</th>\n",
       "      <th>end_station_id</th>\n",
       "      <th>end_station_latitude</th>\n",
       "      <th>end_station_longitude</th>\n",
       "      <th>bike_id</th>\n",
       "      <th>user_type</th>\n",
       "      <th>member_birth_year</th>\n",
       "      <th>member_gender</th>\n",
       "      <th>bike_share_for_all_trip</th>\n",
       "      <th>age_member</th>\n",
       "    </tr>\n",
       "  </thead>\n",
       "  <tbody>\n",
       "    <tr>\n",
       "      <th>0</th>\n",
       "      <td>52185</td>\n",
       "      <td>2019-02-28 17:32:10</td>\n",
       "      <td>2019-03-01 08:01:55</td>\n",
       "      <td>21.0</td>\n",
       "      <td>37.789625</td>\n",
       "      <td>-122.400811</td>\n",
       "      <td>13.0</td>\n",
       "      <td>37.794231</td>\n",
       "      <td>-122.402923</td>\n",
       "      <td>4902</td>\n",
       "      <td>Customer</td>\n",
       "      <td>1984.0</td>\n",
       "      <td>Male</td>\n",
       "      <td>No</td>\n",
       "      <td>38.0</td>\n",
       "    </tr>\n",
       "    <tr>\n",
       "      <th>2</th>\n",
       "      <td>61854</td>\n",
       "      <td>2019-02-28 12:13:13</td>\n",
       "      <td>2019-03-01 05:24:08</td>\n",
       "      <td>86.0</td>\n",
       "      <td>37.769305</td>\n",
       "      <td>-122.426826</td>\n",
       "      <td>3.0</td>\n",
       "      <td>37.786375</td>\n",
       "      <td>-122.404904</td>\n",
       "      <td>5905</td>\n",
       "      <td>Customer</td>\n",
       "      <td>1972.0</td>\n",
       "      <td>Male</td>\n",
       "      <td>No</td>\n",
       "      <td>50.0</td>\n",
       "    </tr>\n",
       "    <tr>\n",
       "      <th>3</th>\n",
       "      <td>36490</td>\n",
       "      <td>2019-02-28 17:54:26</td>\n",
       "      <td>2019-03-01 04:02:36</td>\n",
       "      <td>375.0</td>\n",
       "      <td>37.774836</td>\n",
       "      <td>-122.446546</td>\n",
       "      <td>70.0</td>\n",
       "      <td>37.773311</td>\n",
       "      <td>-122.444293</td>\n",
       "      <td>6638</td>\n",
       "      <td>Subscriber</td>\n",
       "      <td>1989.0</td>\n",
       "      <td>Other</td>\n",
       "      <td>No</td>\n",
       "      <td>33.0</td>\n",
       "    </tr>\n",
       "    <tr>\n",
       "      <th>4</th>\n",
       "      <td>1585</td>\n",
       "      <td>2019-02-28 23:54:18</td>\n",
       "      <td>2019-03-01 00:20:44</td>\n",
       "      <td>7.0</td>\n",
       "      <td>37.804562</td>\n",
       "      <td>-122.271738</td>\n",
       "      <td>222.0</td>\n",
       "      <td>37.792714</td>\n",
       "      <td>-122.248780</td>\n",
       "      <td>4898</td>\n",
       "      <td>Subscriber</td>\n",
       "      <td>1974.0</td>\n",
       "      <td>Male</td>\n",
       "      <td>Yes</td>\n",
       "      <td>48.0</td>\n",
       "    </tr>\n",
       "    <tr>\n",
       "      <th>5</th>\n",
       "      <td>1793</td>\n",
       "      <td>2019-02-28 23:49:58</td>\n",
       "      <td>2019-03-01 00:19:51</td>\n",
       "      <td>93.0</td>\n",
       "      <td>37.770407</td>\n",
       "      <td>-122.391198</td>\n",
       "      <td>323.0</td>\n",
       "      <td>37.798014</td>\n",
       "      <td>-122.405950</td>\n",
       "      <td>5200</td>\n",
       "      <td>Subscriber</td>\n",
       "      <td>1959.0</td>\n",
       "      <td>Male</td>\n",
       "      <td>No</td>\n",
       "      <td>63.0</td>\n",
       "    </tr>\n",
       "  </tbody>\n",
       "</table>\n",
       "</div>"
      ],
      "text/plain": [
       "   duration_sec          start_time            end_time  start_station_id  \\\n",
       "0         52185 2019-02-28 17:32:10 2019-03-01 08:01:55              21.0   \n",
       "2         61854 2019-02-28 12:13:13 2019-03-01 05:24:08              86.0   \n",
       "3         36490 2019-02-28 17:54:26 2019-03-01 04:02:36             375.0   \n",
       "4          1585 2019-02-28 23:54:18 2019-03-01 00:20:44               7.0   \n",
       "5          1793 2019-02-28 23:49:58 2019-03-01 00:19:51              93.0   \n",
       "\n",
       "   start_station_latitude  start_station_longitude  end_station_id  \\\n",
       "0               37.789625              -122.400811            13.0   \n",
       "2               37.769305              -122.426826             3.0   \n",
       "3               37.774836              -122.446546            70.0   \n",
       "4               37.804562              -122.271738           222.0   \n",
       "5               37.770407              -122.391198           323.0   \n",
       "\n",
       "   end_station_latitude  end_station_longitude  bike_id   user_type  \\\n",
       "0             37.794231            -122.402923     4902    Customer   \n",
       "2             37.786375            -122.404904     5905    Customer   \n",
       "3             37.773311            -122.444293     6638  Subscriber   \n",
       "4             37.792714            -122.248780     4898  Subscriber   \n",
       "5             37.798014            -122.405950     5200  Subscriber   \n",
       "\n",
       "   member_birth_year member_gender bike_share_for_all_trip  age_member  \n",
       "0             1984.0          Male                      No        38.0  \n",
       "2             1972.0          Male                      No        50.0  \n",
       "3             1989.0         Other                      No        33.0  \n",
       "4             1974.0          Male                     Yes        48.0  \n",
       "5             1959.0          Male                      No        63.0  "
      ]
     },
     "execution_count": 20,
     "metadata": {},
     "output_type": "execute_result"
    }
   ],
   "source": [
    "#Vérification de la création de la colonne age_member\n",
    "df_copy.head()"
   ]
  },
  {
   "cell_type": "code",
   "execution_count": 21,
   "id": "30f77a39",
   "metadata": {},
   "outputs": [],
   "source": [
    "# Suppression la ligne member_birth_year\n",
    "df_copy.drop('member_birth_year',axis=1,inplace=True)"
   ]
  },
  {
   "cell_type": "code",
   "execution_count": 22,
   "id": "98644f65",
   "metadata": {},
   "outputs": [],
   "source": [
    "#Convertir le type de l'age de float a int\n",
    "df_copy['age_member']=df_copy['age_member'].astype(int)"
   ]
  },
  {
   "cell_type": "code",
   "execution_count": 23,
   "id": "d2b5caa3",
   "metadata": {},
   "outputs": [
    {
     "name": "stdout",
     "output_type": "stream",
     "text": [
      "<class 'pandas.core.frame.DataFrame'>\n",
      "Int64Index: 174952 entries, 0 to 183411\n",
      "Data columns (total 14 columns):\n",
      " #   Column                   Non-Null Count   Dtype         \n",
      "---  ------                   --------------   -----         \n",
      " 0   duration_sec             174952 non-null  int64         \n",
      " 1   start_time               174952 non-null  datetime64[ns]\n",
      " 2   end_time                 174952 non-null  datetime64[ns]\n",
      " 3   start_station_id         174952 non-null  float64       \n",
      " 4   start_station_latitude   174952 non-null  float64       \n",
      " 5   start_station_longitude  174952 non-null  float64       \n",
      " 6   end_station_id           174952 non-null  float64       \n",
      " 7   end_station_latitude     174952 non-null  float64       \n",
      " 8   end_station_longitude    174952 non-null  float64       \n",
      " 9   bike_id                  174952 non-null  int64         \n",
      " 10  user_type                174952 non-null  object        \n",
      " 11  member_gender            174952 non-null  object        \n",
      " 12  bike_share_for_all_trip  174952 non-null  object        \n",
      " 13  age_member               174952 non-null  int64         \n",
      "dtypes: datetime64[ns](2), float64(6), int64(3), object(3)\n",
      "memory usage: 20.0+ MB\n"
     ]
    }
   ],
   "source": [
    "df_copy.info()"
   ]
  },
  {
   "cell_type": "markdown",
   "id": "366bf518",
   "metadata": {},
   "source": [
    "- **Calculer la distance parcourue entre 2 points à partir des attributs start_station_latitude,start_station_longitude,end_station_latitude,end_station_longitude**"
   ]
  },
  {
   "cell_type": "code",
   "execution_count": 24,
   "id": "89bb59c5",
   "metadata": {},
   "outputs": [],
   "source": [
    "#Calcul des distances parcourues à vélo à partir de l'altitude et la longitude\n",
    "# la formule est la suivante:Rarcos(sin(a).sin(b))+cos(a).cos(b).cos(c-d))//R représente le rayon de la terre\n",
    "# R=6371 a=Altitude de départ b=Altitude d'arrivée c=longitude départ d=Longitude d'arrivée\n",
    "def dist_trav(a,b,c,d):#retourne la distance en km arrondis entre deux points\n",
    "    distance=6371*np.arccos(np.sin(a)*np.sin(b)+np.cos(a)*np.cos(b)*np.cos(c-d))\n",
    "#Retourne l'arrondi de la distance au chiffre À\n",
    "    return(round(distance,0))"
   ]
  },
  {
   "cell_type": "code",
   "execution_count": 25,
   "id": "9e8abc2f",
   "metadata": {},
   "outputs": [
    {
     "data": {
      "text/plain": [
       "32.0"
      ]
     },
     "execution_count": 25,
     "metadata": {},
     "output_type": "execute_result"
    }
   ],
   "source": [
    "dist_trav(37.789625,37.794231,-122.400811,-122.402923)"
   ]
  },
  {
   "cell_type": "code",
   "execution_count": 26,
   "id": "3419ef69",
   "metadata": {},
   "outputs": [
    {
     "name": "stderr",
     "output_type": "stream",
     "text": [
      "/tmp/ipykernel_27762/2042469257.py:5: RuntimeWarning: invalid value encountered in arccos\n",
      "  distance=6371*np.arccos(np.sin(a)*np.sin(b)+np.cos(a)*np.cos(b)*np.cos(c-d))\n"
     ]
    }
   ],
   "source": [
    "#colonne permettant d'avoir le trajet parcouru à velo\n",
    "df_copy['distance_trav']=df_copy.apply(lambda f:dist_trav(f['start_station_latitude'],f['end_station_latitude'],f['start_station_longitude'],f['end_station_longitude']),axis=1)"
   ]
  },
  {
   "cell_type": "code",
   "execution_count": 27,
   "id": "21d4eca2",
   "metadata": {},
   "outputs": [
    {
     "data": {
      "text/html": [
       "<div>\n",
       "<style scoped>\n",
       "    .dataframe tbody tr th:only-of-type {\n",
       "        vertical-align: middle;\n",
       "    }\n",
       "\n",
       "    .dataframe tbody tr th {\n",
       "        vertical-align: top;\n",
       "    }\n",
       "\n",
       "    .dataframe thead th {\n",
       "        text-align: right;\n",
       "    }\n",
       "</style>\n",
       "<table border=\"1\" class=\"dataframe\">\n",
       "  <thead>\n",
       "    <tr style=\"text-align: right;\">\n",
       "      <th></th>\n",
       "      <th>duration_sec</th>\n",
       "      <th>start_time</th>\n",
       "      <th>end_time</th>\n",
       "      <th>start_station_id</th>\n",
       "      <th>start_station_latitude</th>\n",
       "      <th>start_station_longitude</th>\n",
       "      <th>end_station_id</th>\n",
       "      <th>end_station_latitude</th>\n",
       "      <th>end_station_longitude</th>\n",
       "      <th>bike_id</th>\n",
       "      <th>user_type</th>\n",
       "      <th>member_gender</th>\n",
       "      <th>bike_share_for_all_trip</th>\n",
       "      <th>age_member</th>\n",
       "      <th>distance_trav</th>\n",
       "    </tr>\n",
       "  </thead>\n",
       "  <tbody>\n",
       "    <tr>\n",
       "      <th>0</th>\n",
       "      <td>52185</td>\n",
       "      <td>2019-02-28 17:32:10</td>\n",
       "      <td>2019-03-01 08:01:55</td>\n",
       "      <td>21.0</td>\n",
       "      <td>37.789625</td>\n",
       "      <td>-122.400811</td>\n",
       "      <td>13.0</td>\n",
       "      <td>37.794231</td>\n",
       "      <td>-122.402923</td>\n",
       "      <td>4902</td>\n",
       "      <td>Customer</td>\n",
       "      <td>Male</td>\n",
       "      <td>No</td>\n",
       "      <td>38</td>\n",
       "      <td>32.0</td>\n",
       "    </tr>\n",
       "    <tr>\n",
       "      <th>2</th>\n",
       "      <td>61854</td>\n",
       "      <td>2019-02-28 12:13:13</td>\n",
       "      <td>2019-03-01 05:24:08</td>\n",
       "      <td>86.0</td>\n",
       "      <td>37.769305</td>\n",
       "      <td>-122.426826</td>\n",
       "      <td>3.0</td>\n",
       "      <td>37.786375</td>\n",
       "      <td>-122.404904</td>\n",
       "      <td>5905</td>\n",
       "      <td>Customer</td>\n",
       "      <td>Male</td>\n",
       "      <td>No</td>\n",
       "      <td>50</td>\n",
       "      <td>177.0</td>\n",
       "    </tr>\n",
       "    <tr>\n",
       "      <th>3</th>\n",
       "      <td>36490</td>\n",
       "      <td>2019-02-28 17:54:26</td>\n",
       "      <td>2019-03-01 04:02:36</td>\n",
       "      <td>375.0</td>\n",
       "      <td>37.774836</td>\n",
       "      <td>-122.446546</td>\n",
       "      <td>70.0</td>\n",
       "      <td>37.773311</td>\n",
       "      <td>-122.444293</td>\n",
       "      <td>6638</td>\n",
       "      <td>Subscriber</td>\n",
       "      <td>Other</td>\n",
       "      <td>No</td>\n",
       "      <td>33</td>\n",
       "      <td>17.0</td>\n",
       "    </tr>\n",
       "    <tr>\n",
       "      <th>4</th>\n",
       "      <td>1585</td>\n",
       "      <td>2019-02-28 23:54:18</td>\n",
       "      <td>2019-03-01 00:20:44</td>\n",
       "      <td>7.0</td>\n",
       "      <td>37.804562</td>\n",
       "      <td>-122.271738</td>\n",
       "      <td>222.0</td>\n",
       "      <td>37.792714</td>\n",
       "      <td>-122.248780</td>\n",
       "      <td>4898</td>\n",
       "      <td>Subscriber</td>\n",
       "      <td>Male</td>\n",
       "      <td>Yes</td>\n",
       "      <td>48</td>\n",
       "      <td>164.0</td>\n",
       "    </tr>\n",
       "    <tr>\n",
       "      <th>5</th>\n",
       "      <td>1793</td>\n",
       "      <td>2019-02-28 23:49:58</td>\n",
       "      <td>2019-03-01 00:19:51</td>\n",
       "      <td>93.0</td>\n",
       "      <td>37.770407</td>\n",
       "      <td>-122.391198</td>\n",
       "      <td>323.0</td>\n",
       "      <td>37.798014</td>\n",
       "      <td>-122.405950</td>\n",
       "      <td>5200</td>\n",
       "      <td>Subscriber</td>\n",
       "      <td>Male</td>\n",
       "      <td>No</td>\n",
       "      <td>63</td>\n",
       "      <td>199.0</td>\n",
       "    </tr>\n",
       "    <tr>\n",
       "      <th>...</th>\n",
       "      <td>...</td>\n",
       "      <td>...</td>\n",
       "      <td>...</td>\n",
       "      <td>...</td>\n",
       "      <td>...</td>\n",
       "      <td>...</td>\n",
       "      <td>...</td>\n",
       "      <td>...</td>\n",
       "      <td>...</td>\n",
       "      <td>...</td>\n",
       "      <td>...</td>\n",
       "      <td>...</td>\n",
       "      <td>...</td>\n",
       "      <td>...</td>\n",
       "      <td>...</td>\n",
       "    </tr>\n",
       "    <tr>\n",
       "      <th>183407</th>\n",
       "      <td>480</td>\n",
       "      <td>2019-02-01 00:04:49</td>\n",
       "      <td>2019-02-01 00:12:50</td>\n",
       "      <td>27.0</td>\n",
       "      <td>37.788059</td>\n",
       "      <td>-122.391865</td>\n",
       "      <td>324.0</td>\n",
       "      <td>37.788300</td>\n",
       "      <td>-122.408531</td>\n",
       "      <td>4832</td>\n",
       "      <td>Subscriber</td>\n",
       "      <td>Male</td>\n",
       "      <td>No</td>\n",
       "      <td>26</td>\n",
       "      <td>106.0</td>\n",
       "    </tr>\n",
       "    <tr>\n",
       "      <th>183408</th>\n",
       "      <td>313</td>\n",
       "      <td>2019-02-01 00:05:34</td>\n",
       "      <td>2019-02-01 00:10:48</td>\n",
       "      <td>21.0</td>\n",
       "      <td>37.789625</td>\n",
       "      <td>-122.400811</td>\n",
       "      <td>66.0</td>\n",
       "      <td>37.778742</td>\n",
       "      <td>-122.392741</td>\n",
       "      <td>4960</td>\n",
       "      <td>Subscriber</td>\n",
       "      <td>Male</td>\n",
       "      <td>No</td>\n",
       "      <td>38</td>\n",
       "      <td>86.0</td>\n",
       "    </tr>\n",
       "    <tr>\n",
       "      <th>183409</th>\n",
       "      <td>141</td>\n",
       "      <td>2019-02-01 00:06:05</td>\n",
       "      <td>2019-02-01 00:08:27</td>\n",
       "      <td>278.0</td>\n",
       "      <td>37.331932</td>\n",
       "      <td>-121.904888</td>\n",
       "      <td>277.0</td>\n",
       "      <td>37.333658</td>\n",
       "      <td>-121.908586</td>\n",
       "      <td>3824</td>\n",
       "      <td>Subscriber</td>\n",
       "      <td>Male</td>\n",
       "      <td>Yes</td>\n",
       "      <td>32</td>\n",
       "      <td>25.0</td>\n",
       "    </tr>\n",
       "    <tr>\n",
       "      <th>183410</th>\n",
       "      <td>139</td>\n",
       "      <td>2019-02-01 00:05:34</td>\n",
       "      <td>2019-02-01 00:07:54</td>\n",
       "      <td>220.0</td>\n",
       "      <td>37.811351</td>\n",
       "      <td>-122.273422</td>\n",
       "      <td>216.0</td>\n",
       "      <td>37.817827</td>\n",
       "      <td>-122.275698</td>\n",
       "      <td>5095</td>\n",
       "      <td>Subscriber</td>\n",
       "      <td>Male</td>\n",
       "      <td>No</td>\n",
       "      <td>34</td>\n",
       "      <td>44.0</td>\n",
       "    </tr>\n",
       "    <tr>\n",
       "      <th>183411</th>\n",
       "      <td>271</td>\n",
       "      <td>2019-02-01 00:00:20</td>\n",
       "      <td>2019-02-01 00:04:52</td>\n",
       "      <td>24.0</td>\n",
       "      <td>37.789677</td>\n",
       "      <td>-122.390428</td>\n",
       "      <td>37.0</td>\n",
       "      <td>37.785000</td>\n",
       "      <td>-122.395936</td>\n",
       "      <td>1057</td>\n",
       "      <td>Subscriber</td>\n",
       "      <td>Male</td>\n",
       "      <td>No</td>\n",
       "      <td>33</td>\n",
       "      <td>46.0</td>\n",
       "    </tr>\n",
       "  </tbody>\n",
       "</table>\n",
       "<p>174952 rows × 15 columns</p>\n",
       "</div>"
      ],
      "text/plain": [
       "        duration_sec          start_time            end_time  \\\n",
       "0              52185 2019-02-28 17:32:10 2019-03-01 08:01:55   \n",
       "2              61854 2019-02-28 12:13:13 2019-03-01 05:24:08   \n",
       "3              36490 2019-02-28 17:54:26 2019-03-01 04:02:36   \n",
       "4               1585 2019-02-28 23:54:18 2019-03-01 00:20:44   \n",
       "5               1793 2019-02-28 23:49:58 2019-03-01 00:19:51   \n",
       "...              ...                 ...                 ...   \n",
       "183407           480 2019-02-01 00:04:49 2019-02-01 00:12:50   \n",
       "183408           313 2019-02-01 00:05:34 2019-02-01 00:10:48   \n",
       "183409           141 2019-02-01 00:06:05 2019-02-01 00:08:27   \n",
       "183410           139 2019-02-01 00:05:34 2019-02-01 00:07:54   \n",
       "183411           271 2019-02-01 00:00:20 2019-02-01 00:04:52   \n",
       "\n",
       "        start_station_id  start_station_latitude  start_station_longitude  \\\n",
       "0                   21.0               37.789625              -122.400811   \n",
       "2                   86.0               37.769305              -122.426826   \n",
       "3                  375.0               37.774836              -122.446546   \n",
       "4                    7.0               37.804562              -122.271738   \n",
       "5                   93.0               37.770407              -122.391198   \n",
       "...                  ...                     ...                      ...   \n",
       "183407              27.0               37.788059              -122.391865   \n",
       "183408              21.0               37.789625              -122.400811   \n",
       "183409             278.0               37.331932              -121.904888   \n",
       "183410             220.0               37.811351              -122.273422   \n",
       "183411              24.0               37.789677              -122.390428   \n",
       "\n",
       "        end_station_id  end_station_latitude  end_station_longitude  bike_id  \\\n",
       "0                 13.0             37.794231            -122.402923     4902   \n",
       "2                  3.0             37.786375            -122.404904     5905   \n",
       "3                 70.0             37.773311            -122.444293     6638   \n",
       "4                222.0             37.792714            -122.248780     4898   \n",
       "5                323.0             37.798014            -122.405950     5200   \n",
       "...                ...                   ...                    ...      ...   \n",
       "183407           324.0             37.788300            -122.408531     4832   \n",
       "183408            66.0             37.778742            -122.392741     4960   \n",
       "183409           277.0             37.333658            -121.908586     3824   \n",
       "183410           216.0             37.817827            -122.275698     5095   \n",
       "183411            37.0             37.785000            -122.395936     1057   \n",
       "\n",
       "         user_type member_gender bike_share_for_all_trip  age_member  \\\n",
       "0         Customer          Male                      No          38   \n",
       "2         Customer          Male                      No          50   \n",
       "3       Subscriber         Other                      No          33   \n",
       "4       Subscriber          Male                     Yes          48   \n",
       "5       Subscriber          Male                      No          63   \n",
       "...            ...           ...                     ...         ...   \n",
       "183407  Subscriber          Male                      No          26   \n",
       "183408  Subscriber          Male                      No          38   \n",
       "183409  Subscriber          Male                     Yes          32   \n",
       "183410  Subscriber          Male                      No          34   \n",
       "183411  Subscriber          Male                      No          33   \n",
       "\n",
       "        distance_trav  \n",
       "0                32.0  \n",
       "2               177.0  \n",
       "3                17.0  \n",
       "4               164.0  \n",
       "5               199.0  \n",
       "...               ...  \n",
       "183407          106.0  \n",
       "183408           86.0  \n",
       "183409           25.0  \n",
       "183410           44.0  \n",
       "183411           46.0  \n",
       "\n",
       "[174952 rows x 15 columns]"
      ]
     },
     "execution_count": 27,
     "metadata": {},
     "output_type": "execute_result"
    }
   ],
   "source": [
    "df_copy"
   ]
  },
  {
   "cell_type": "code",
   "execution_count": 28,
   "id": "ba284379",
   "metadata": {},
   "outputs": [
    {
     "name": "stdout",
     "output_type": "stream",
     "text": [
      "<class 'pandas.core.frame.DataFrame'>\n",
      "Int64Index: 174952 entries, 0 to 183411\n",
      "Data columns (total 15 columns):\n",
      " #   Column                   Non-Null Count   Dtype         \n",
      "---  ------                   --------------   -----         \n",
      " 0   duration_sec             174952 non-null  int64         \n",
      " 1   start_time               174952 non-null  datetime64[ns]\n",
      " 2   end_time                 174952 non-null  datetime64[ns]\n",
      " 3   start_station_id         174952 non-null  float64       \n",
      " 4   start_station_latitude   174952 non-null  float64       \n",
      " 5   start_station_longitude  174952 non-null  float64       \n",
      " 6   end_station_id           174952 non-null  float64       \n",
      " 7   end_station_latitude     174952 non-null  float64       \n",
      " 8   end_station_longitude    174952 non-null  float64       \n",
      " 9   bike_id                  174952 non-null  int64         \n",
      " 10  user_type                174952 non-null  object        \n",
      " 11  member_gender            174952 non-null  object        \n",
      " 12  bike_share_for_all_trip  174952 non-null  object        \n",
      " 13  age_member               174952 non-null  int64         \n",
      " 14  distance_trav            174691 non-null  float64       \n",
      "dtypes: datetime64[ns](2), float64(7), int64(3), object(3)\n",
      "memory usage: 21.4+ MB\n"
     ]
    }
   ],
   "source": [
    "df_copy.info()"
   ]
  },
  {
   "cell_type": "code",
   "execution_count": 29,
   "id": "c215d3cb",
   "metadata": {},
   "outputs": [],
   "source": [
    "# Suppression des colonnes start_station_latitude,start_station_longitude,end_station_latitude,end_station_longitude\n",
    "df_copy.drop(df_copy.columns[[4,5,7,8]], axis=1, inplace=True)"
   ]
  },
  {
   "cell_type": "code",
   "execution_count": 30,
   "id": "a8591437",
   "metadata": {},
   "outputs": [
    {
     "name": "stdout",
     "output_type": "stream",
     "text": [
      "<class 'pandas.core.frame.DataFrame'>\n",
      "Int64Index: 174952 entries, 0 to 183411\n",
      "Data columns (total 11 columns):\n",
      " #   Column                   Non-Null Count   Dtype         \n",
      "---  ------                   --------------   -----         \n",
      " 0   duration_sec             174952 non-null  int64         \n",
      " 1   start_time               174952 non-null  datetime64[ns]\n",
      " 2   end_time                 174952 non-null  datetime64[ns]\n",
      " 3   start_station_id         174952 non-null  float64       \n",
      " 4   end_station_id           174952 non-null  float64       \n",
      " 5   bike_id                  174952 non-null  int64         \n",
      " 6   user_type                174952 non-null  object        \n",
      " 7   member_gender            174952 non-null  object        \n",
      " 8   bike_share_for_all_trip  174952 non-null  object        \n",
      " 9   age_member               174952 non-null  int64         \n",
      " 10  distance_trav            174691 non-null  float64       \n",
      "dtypes: datetime64[ns](2), float64(3), int64(3), object(3)\n",
      "memory usage: 16.0+ MB\n"
     ]
    }
   ],
   "source": [
    "df_copy.info()"
   ]
  },
  {
   "cell_type": "markdown",
   "id": "93c80af9",
   "metadata": {},
   "source": [
    "- **Changer les types de start_station_id,end_station_id en integer**"
   ]
  },
  {
   "cell_type": "code",
   "execution_count": 31,
   "id": "cc29fc22",
   "metadata": {},
   "outputs": [],
   "source": [
    "#Convertir le type start_station_id en integer\n",
    "df_copy['start_station_id']=df_copy['start_station_id'].astype(int)"
   ]
  },
  {
   "cell_type": "code",
   "execution_count": 32,
   "id": "7cd9e105",
   "metadata": {},
   "outputs": [],
   "source": [
    "#Convertir le type end_station_id en integer\n",
    "df_copy['end_station_id']=df_copy['end_station_id'].astype(int)"
   ]
  },
  {
   "cell_type": "code",
   "execution_count": 33,
   "id": "4c2fa905",
   "metadata": {},
   "outputs": [
    {
     "name": "stdout",
     "output_type": "stream",
     "text": [
      "<class 'pandas.core.frame.DataFrame'>\n",
      "Int64Index: 174952 entries, 0 to 183411\n",
      "Data columns (total 11 columns):\n",
      " #   Column                   Non-Null Count   Dtype         \n",
      "---  ------                   --------------   -----         \n",
      " 0   duration_sec             174952 non-null  int64         \n",
      " 1   start_time               174952 non-null  datetime64[ns]\n",
      " 2   end_time                 174952 non-null  datetime64[ns]\n",
      " 3   start_station_id         174952 non-null  int64         \n",
      " 4   end_station_id           174952 non-null  int64         \n",
      " 5   bike_id                  174952 non-null  int64         \n",
      " 6   user_type                174952 non-null  object        \n",
      " 7   member_gender            174952 non-null  object        \n",
      " 8   bike_share_for_all_trip  174952 non-null  object        \n",
      " 9   age_member               174952 non-null  int64         \n",
      " 10  distance_trav            174691 non-null  float64       \n",
      "dtypes: datetime64[ns](2), float64(1), int64(5), object(3)\n",
      "memory usage: 16.0+ MB\n"
     ]
    }
   ],
   "source": [
    "df_copy.info()"
   ]
  },
  {
   "cell_type": "code",
   "execution_count": 34,
   "id": "4843506e",
   "metadata": {},
   "outputs": [
    {
     "data": {
      "text/plain": [
       "duration_sec                 0\n",
       "start_time                   0\n",
       "end_time                     0\n",
       "start_station_id             0\n",
       "end_station_id               0\n",
       "bike_id                      0\n",
       "user_type                    0\n",
       "member_gender                0\n",
       "bike_share_for_all_trip      0\n",
       "age_member                   0\n",
       "distance_trav              261\n",
       "dtype: int64"
      ]
     },
     "execution_count": 34,
     "metadata": {},
     "output_type": "execute_result"
    }
   ],
   "source": [
    "df_copy.isna().sum()"
   ]
  },
  {
   "cell_type": "code",
   "execution_count": 35,
   "id": "4618894f",
   "metadata": {},
   "outputs": [],
   "source": [
    "#Suppression des lignes sans distance_trav\n",
    "df_copy.dropna(inplace=True)"
   ]
  },
  {
   "cell_type": "code",
   "execution_count": 36,
   "id": "0741e4af",
   "metadata": {},
   "outputs": [
    {
     "data": {
      "text/plain": [
       "duration_sec               0\n",
       "start_time                 0\n",
       "end_time                   0\n",
       "start_station_id           0\n",
       "end_station_id             0\n",
       "bike_id                    0\n",
       "user_type                  0\n",
       "member_gender              0\n",
       "bike_share_for_all_trip    0\n",
       "age_member                 0\n",
       "distance_trav              0\n",
       "dtype: int64"
      ]
     },
     "execution_count": 36,
     "metadata": {},
     "output_type": "execute_result"
    }
   ],
   "source": [
    "df_copy.isna().sum()"
   ]
  },
  {
   "cell_type": "markdown",
   "id": "25f2b508",
   "metadata": {},
   "source": [
    "- **Créer des colonnes start_time_hour,start_time_weekday** "
   ]
  },
  {
   "cell_type": "code",
   "execution_count": 37,
   "id": "7ab96771",
   "metadata": {},
   "outputs": [],
   "source": [
    "#Création d'une colonne start_time_hour pour évaluer les heures de début des courses\n",
    "df_copy['start_time_hour']=df_copy['start_time'].dt.hour"
   ]
  },
  {
   "cell_type": "code",
   "execution_count": 38,
   "id": "5362b2dc",
   "metadata": {},
   "outputs": [
    {
     "data": {
      "text/html": [
       "<div>\n",
       "<style scoped>\n",
       "    .dataframe tbody tr th:only-of-type {\n",
       "        vertical-align: middle;\n",
       "    }\n",
       "\n",
       "    .dataframe tbody tr th {\n",
       "        vertical-align: top;\n",
       "    }\n",
       "\n",
       "    .dataframe thead th {\n",
       "        text-align: right;\n",
       "    }\n",
       "</style>\n",
       "<table border=\"1\" class=\"dataframe\">\n",
       "  <thead>\n",
       "    <tr style=\"text-align: right;\">\n",
       "      <th></th>\n",
       "      <th>duration_sec</th>\n",
       "      <th>start_time</th>\n",
       "      <th>end_time</th>\n",
       "      <th>start_station_id</th>\n",
       "      <th>end_station_id</th>\n",
       "      <th>bike_id</th>\n",
       "      <th>user_type</th>\n",
       "      <th>member_gender</th>\n",
       "      <th>bike_share_for_all_trip</th>\n",
       "      <th>age_member</th>\n",
       "      <th>distance_trav</th>\n",
       "      <th>start_time_hour</th>\n",
       "    </tr>\n",
       "  </thead>\n",
       "  <tbody>\n",
       "    <tr>\n",
       "      <th>0</th>\n",
       "      <td>52185</td>\n",
       "      <td>2019-02-28 17:32:10</td>\n",
       "      <td>2019-03-01 08:01:55</td>\n",
       "      <td>21</td>\n",
       "      <td>13</td>\n",
       "      <td>4902</td>\n",
       "      <td>Customer</td>\n",
       "      <td>Male</td>\n",
       "      <td>No</td>\n",
       "      <td>38</td>\n",
       "      <td>32.0</td>\n",
       "      <td>17</td>\n",
       "    </tr>\n",
       "    <tr>\n",
       "      <th>2</th>\n",
       "      <td>61854</td>\n",
       "      <td>2019-02-28 12:13:13</td>\n",
       "      <td>2019-03-01 05:24:08</td>\n",
       "      <td>86</td>\n",
       "      <td>3</td>\n",
       "      <td>5905</td>\n",
       "      <td>Customer</td>\n",
       "      <td>Male</td>\n",
       "      <td>No</td>\n",
       "      <td>50</td>\n",
       "      <td>177.0</td>\n",
       "      <td>12</td>\n",
       "    </tr>\n",
       "    <tr>\n",
       "      <th>3</th>\n",
       "      <td>36490</td>\n",
       "      <td>2019-02-28 17:54:26</td>\n",
       "      <td>2019-03-01 04:02:36</td>\n",
       "      <td>375</td>\n",
       "      <td>70</td>\n",
       "      <td>6638</td>\n",
       "      <td>Subscriber</td>\n",
       "      <td>Other</td>\n",
       "      <td>No</td>\n",
       "      <td>33</td>\n",
       "      <td>17.0</td>\n",
       "      <td>17</td>\n",
       "    </tr>\n",
       "    <tr>\n",
       "      <th>4</th>\n",
       "      <td>1585</td>\n",
       "      <td>2019-02-28 23:54:18</td>\n",
       "      <td>2019-03-01 00:20:44</td>\n",
       "      <td>7</td>\n",
       "      <td>222</td>\n",
       "      <td>4898</td>\n",
       "      <td>Subscriber</td>\n",
       "      <td>Male</td>\n",
       "      <td>Yes</td>\n",
       "      <td>48</td>\n",
       "      <td>164.0</td>\n",
       "      <td>23</td>\n",
       "    </tr>\n",
       "    <tr>\n",
       "      <th>5</th>\n",
       "      <td>1793</td>\n",
       "      <td>2019-02-28 23:49:58</td>\n",
       "      <td>2019-03-01 00:19:51</td>\n",
       "      <td>93</td>\n",
       "      <td>323</td>\n",
       "      <td>5200</td>\n",
       "      <td>Subscriber</td>\n",
       "      <td>Male</td>\n",
       "      <td>No</td>\n",
       "      <td>63</td>\n",
       "      <td>199.0</td>\n",
       "      <td>23</td>\n",
       "    </tr>\n",
       "    <tr>\n",
       "      <th>...</th>\n",
       "      <td>...</td>\n",
       "      <td>...</td>\n",
       "      <td>...</td>\n",
       "      <td>...</td>\n",
       "      <td>...</td>\n",
       "      <td>...</td>\n",
       "      <td>...</td>\n",
       "      <td>...</td>\n",
       "      <td>...</td>\n",
       "      <td>...</td>\n",
       "      <td>...</td>\n",
       "      <td>...</td>\n",
       "    </tr>\n",
       "    <tr>\n",
       "      <th>183407</th>\n",
       "      <td>480</td>\n",
       "      <td>2019-02-01 00:04:49</td>\n",
       "      <td>2019-02-01 00:12:50</td>\n",
       "      <td>27</td>\n",
       "      <td>324</td>\n",
       "      <td>4832</td>\n",
       "      <td>Subscriber</td>\n",
       "      <td>Male</td>\n",
       "      <td>No</td>\n",
       "      <td>26</td>\n",
       "      <td>106.0</td>\n",
       "      <td>0</td>\n",
       "    </tr>\n",
       "    <tr>\n",
       "      <th>183408</th>\n",
       "      <td>313</td>\n",
       "      <td>2019-02-01 00:05:34</td>\n",
       "      <td>2019-02-01 00:10:48</td>\n",
       "      <td>21</td>\n",
       "      <td>66</td>\n",
       "      <td>4960</td>\n",
       "      <td>Subscriber</td>\n",
       "      <td>Male</td>\n",
       "      <td>No</td>\n",
       "      <td>38</td>\n",
       "      <td>86.0</td>\n",
       "      <td>0</td>\n",
       "    </tr>\n",
       "    <tr>\n",
       "      <th>183409</th>\n",
       "      <td>141</td>\n",
       "      <td>2019-02-01 00:06:05</td>\n",
       "      <td>2019-02-01 00:08:27</td>\n",
       "      <td>278</td>\n",
       "      <td>277</td>\n",
       "      <td>3824</td>\n",
       "      <td>Subscriber</td>\n",
       "      <td>Male</td>\n",
       "      <td>Yes</td>\n",
       "      <td>32</td>\n",
       "      <td>25.0</td>\n",
       "      <td>0</td>\n",
       "    </tr>\n",
       "    <tr>\n",
       "      <th>183410</th>\n",
       "      <td>139</td>\n",
       "      <td>2019-02-01 00:05:34</td>\n",
       "      <td>2019-02-01 00:07:54</td>\n",
       "      <td>220</td>\n",
       "      <td>216</td>\n",
       "      <td>5095</td>\n",
       "      <td>Subscriber</td>\n",
       "      <td>Male</td>\n",
       "      <td>No</td>\n",
       "      <td>34</td>\n",
       "      <td>44.0</td>\n",
       "      <td>0</td>\n",
       "    </tr>\n",
       "    <tr>\n",
       "      <th>183411</th>\n",
       "      <td>271</td>\n",
       "      <td>2019-02-01 00:00:20</td>\n",
       "      <td>2019-02-01 00:04:52</td>\n",
       "      <td>24</td>\n",
       "      <td>37</td>\n",
       "      <td>1057</td>\n",
       "      <td>Subscriber</td>\n",
       "      <td>Male</td>\n",
       "      <td>No</td>\n",
       "      <td>33</td>\n",
       "      <td>46.0</td>\n",
       "      <td>0</td>\n",
       "    </tr>\n",
       "  </tbody>\n",
       "</table>\n",
       "<p>174691 rows × 12 columns</p>\n",
       "</div>"
      ],
      "text/plain": [
       "        duration_sec          start_time            end_time  \\\n",
       "0              52185 2019-02-28 17:32:10 2019-03-01 08:01:55   \n",
       "2              61854 2019-02-28 12:13:13 2019-03-01 05:24:08   \n",
       "3              36490 2019-02-28 17:54:26 2019-03-01 04:02:36   \n",
       "4               1585 2019-02-28 23:54:18 2019-03-01 00:20:44   \n",
       "5               1793 2019-02-28 23:49:58 2019-03-01 00:19:51   \n",
       "...              ...                 ...                 ...   \n",
       "183407           480 2019-02-01 00:04:49 2019-02-01 00:12:50   \n",
       "183408           313 2019-02-01 00:05:34 2019-02-01 00:10:48   \n",
       "183409           141 2019-02-01 00:06:05 2019-02-01 00:08:27   \n",
       "183410           139 2019-02-01 00:05:34 2019-02-01 00:07:54   \n",
       "183411           271 2019-02-01 00:00:20 2019-02-01 00:04:52   \n",
       "\n",
       "        start_station_id  end_station_id  bike_id   user_type member_gender  \\\n",
       "0                     21              13     4902    Customer          Male   \n",
       "2                     86               3     5905    Customer          Male   \n",
       "3                    375              70     6638  Subscriber         Other   \n",
       "4                      7             222     4898  Subscriber          Male   \n",
       "5                     93             323     5200  Subscriber          Male   \n",
       "...                  ...             ...      ...         ...           ...   \n",
       "183407                27             324     4832  Subscriber          Male   \n",
       "183408                21              66     4960  Subscriber          Male   \n",
       "183409               278             277     3824  Subscriber          Male   \n",
       "183410               220             216     5095  Subscriber          Male   \n",
       "183411                24              37     1057  Subscriber          Male   \n",
       "\n",
       "       bike_share_for_all_trip  age_member  distance_trav  start_time_hour  \n",
       "0                           No          38           32.0               17  \n",
       "2                           No          50          177.0               12  \n",
       "3                           No          33           17.0               17  \n",
       "4                          Yes          48          164.0               23  \n",
       "5                           No          63          199.0               23  \n",
       "...                        ...         ...            ...              ...  \n",
       "183407                      No          26          106.0                0  \n",
       "183408                      No          38           86.0                0  \n",
       "183409                     Yes          32           25.0                0  \n",
       "183410                      No          34           44.0                0  \n",
       "183411                      No          33           46.0                0  \n",
       "\n",
       "[174691 rows x 12 columns]"
      ]
     },
     "execution_count": 38,
     "metadata": {},
     "output_type": "execute_result"
    }
   ],
   "source": [
    "df_copy"
   ]
  },
  {
   "cell_type": "code",
   "execution_count": 39,
   "id": "cebc3cd0",
   "metadata": {},
   "outputs": [
    {
     "name": "stdout",
     "output_type": "stream",
     "text": [
      "<class 'pandas.core.frame.DataFrame'>\n",
      "Int64Index: 174691 entries, 0 to 183411\n",
      "Data columns (total 12 columns):\n",
      " #   Column                   Non-Null Count   Dtype         \n",
      "---  ------                   --------------   -----         \n",
      " 0   duration_sec             174691 non-null  int64         \n",
      " 1   start_time               174691 non-null  datetime64[ns]\n",
      " 2   end_time                 174691 non-null  datetime64[ns]\n",
      " 3   start_station_id         174691 non-null  int64         \n",
      " 4   end_station_id           174691 non-null  int64         \n",
      " 5   bike_id                  174691 non-null  int64         \n",
      " 6   user_type                174691 non-null  object        \n",
      " 7   member_gender            174691 non-null  object        \n",
      " 8   bike_share_for_all_trip  174691 non-null  object        \n",
      " 9   age_member               174691 non-null  int64         \n",
      " 10  distance_trav            174691 non-null  float64       \n",
      " 11  start_time_hour          174691 non-null  int64         \n",
      "dtypes: datetime64[ns](2), float64(1), int64(6), object(3)\n",
      "memory usage: 17.3+ MB\n"
     ]
    }
   ],
   "source": [
    "df_copy.info()"
   ]
  },
  {
   "cell_type": "code",
   "execution_count": 40,
   "id": "43f0df9e",
   "metadata": {},
   "outputs": [],
   "source": [
    "#Création d'une colonne start_time_weekday\n",
    "df_copy['start_time_weekday']=df_copy['start_time'].dt.strftime('%A')"
   ]
  },
  {
   "cell_type": "code",
   "execution_count": 41,
   "id": "133485e7",
   "metadata": {},
   "outputs": [
    {
     "data": {
      "text/html": [
       "<div>\n",
       "<style scoped>\n",
       "    .dataframe tbody tr th:only-of-type {\n",
       "        vertical-align: middle;\n",
       "    }\n",
       "\n",
       "    .dataframe tbody tr th {\n",
       "        vertical-align: top;\n",
       "    }\n",
       "\n",
       "    .dataframe thead th {\n",
       "        text-align: right;\n",
       "    }\n",
       "</style>\n",
       "<table border=\"1\" class=\"dataframe\">\n",
       "  <thead>\n",
       "    <tr style=\"text-align: right;\">\n",
       "      <th></th>\n",
       "      <th>duration_sec</th>\n",
       "      <th>start_time</th>\n",
       "      <th>end_time</th>\n",
       "      <th>start_station_id</th>\n",
       "      <th>end_station_id</th>\n",
       "      <th>bike_id</th>\n",
       "      <th>user_type</th>\n",
       "      <th>member_gender</th>\n",
       "      <th>bike_share_for_all_trip</th>\n",
       "      <th>age_member</th>\n",
       "      <th>distance_trav</th>\n",
       "      <th>start_time_hour</th>\n",
       "      <th>start_time_weekday</th>\n",
       "    </tr>\n",
       "  </thead>\n",
       "  <tbody>\n",
       "    <tr>\n",
       "      <th>0</th>\n",
       "      <td>52185</td>\n",
       "      <td>2019-02-28 17:32:10</td>\n",
       "      <td>2019-03-01 08:01:55</td>\n",
       "      <td>21</td>\n",
       "      <td>13</td>\n",
       "      <td>4902</td>\n",
       "      <td>Customer</td>\n",
       "      <td>Male</td>\n",
       "      <td>No</td>\n",
       "      <td>38</td>\n",
       "      <td>32.0</td>\n",
       "      <td>17</td>\n",
       "      <td>Thursday</td>\n",
       "    </tr>\n",
       "    <tr>\n",
       "      <th>2</th>\n",
       "      <td>61854</td>\n",
       "      <td>2019-02-28 12:13:13</td>\n",
       "      <td>2019-03-01 05:24:08</td>\n",
       "      <td>86</td>\n",
       "      <td>3</td>\n",
       "      <td>5905</td>\n",
       "      <td>Customer</td>\n",
       "      <td>Male</td>\n",
       "      <td>No</td>\n",
       "      <td>50</td>\n",
       "      <td>177.0</td>\n",
       "      <td>12</td>\n",
       "      <td>Thursday</td>\n",
       "    </tr>\n",
       "    <tr>\n",
       "      <th>3</th>\n",
       "      <td>36490</td>\n",
       "      <td>2019-02-28 17:54:26</td>\n",
       "      <td>2019-03-01 04:02:36</td>\n",
       "      <td>375</td>\n",
       "      <td>70</td>\n",
       "      <td>6638</td>\n",
       "      <td>Subscriber</td>\n",
       "      <td>Other</td>\n",
       "      <td>No</td>\n",
       "      <td>33</td>\n",
       "      <td>17.0</td>\n",
       "      <td>17</td>\n",
       "      <td>Thursday</td>\n",
       "    </tr>\n",
       "    <tr>\n",
       "      <th>4</th>\n",
       "      <td>1585</td>\n",
       "      <td>2019-02-28 23:54:18</td>\n",
       "      <td>2019-03-01 00:20:44</td>\n",
       "      <td>7</td>\n",
       "      <td>222</td>\n",
       "      <td>4898</td>\n",
       "      <td>Subscriber</td>\n",
       "      <td>Male</td>\n",
       "      <td>Yes</td>\n",
       "      <td>48</td>\n",
       "      <td>164.0</td>\n",
       "      <td>23</td>\n",
       "      <td>Thursday</td>\n",
       "    </tr>\n",
       "    <tr>\n",
       "      <th>5</th>\n",
       "      <td>1793</td>\n",
       "      <td>2019-02-28 23:49:58</td>\n",
       "      <td>2019-03-01 00:19:51</td>\n",
       "      <td>93</td>\n",
       "      <td>323</td>\n",
       "      <td>5200</td>\n",
       "      <td>Subscriber</td>\n",
       "      <td>Male</td>\n",
       "      <td>No</td>\n",
       "      <td>63</td>\n",
       "      <td>199.0</td>\n",
       "      <td>23</td>\n",
       "      <td>Thursday</td>\n",
       "    </tr>\n",
       "    <tr>\n",
       "      <th>...</th>\n",
       "      <td>...</td>\n",
       "      <td>...</td>\n",
       "      <td>...</td>\n",
       "      <td>...</td>\n",
       "      <td>...</td>\n",
       "      <td>...</td>\n",
       "      <td>...</td>\n",
       "      <td>...</td>\n",
       "      <td>...</td>\n",
       "      <td>...</td>\n",
       "      <td>...</td>\n",
       "      <td>...</td>\n",
       "      <td>...</td>\n",
       "    </tr>\n",
       "    <tr>\n",
       "      <th>183407</th>\n",
       "      <td>480</td>\n",
       "      <td>2019-02-01 00:04:49</td>\n",
       "      <td>2019-02-01 00:12:50</td>\n",
       "      <td>27</td>\n",
       "      <td>324</td>\n",
       "      <td>4832</td>\n",
       "      <td>Subscriber</td>\n",
       "      <td>Male</td>\n",
       "      <td>No</td>\n",
       "      <td>26</td>\n",
       "      <td>106.0</td>\n",
       "      <td>0</td>\n",
       "      <td>Friday</td>\n",
       "    </tr>\n",
       "    <tr>\n",
       "      <th>183408</th>\n",
       "      <td>313</td>\n",
       "      <td>2019-02-01 00:05:34</td>\n",
       "      <td>2019-02-01 00:10:48</td>\n",
       "      <td>21</td>\n",
       "      <td>66</td>\n",
       "      <td>4960</td>\n",
       "      <td>Subscriber</td>\n",
       "      <td>Male</td>\n",
       "      <td>No</td>\n",
       "      <td>38</td>\n",
       "      <td>86.0</td>\n",
       "      <td>0</td>\n",
       "      <td>Friday</td>\n",
       "    </tr>\n",
       "    <tr>\n",
       "      <th>183409</th>\n",
       "      <td>141</td>\n",
       "      <td>2019-02-01 00:06:05</td>\n",
       "      <td>2019-02-01 00:08:27</td>\n",
       "      <td>278</td>\n",
       "      <td>277</td>\n",
       "      <td>3824</td>\n",
       "      <td>Subscriber</td>\n",
       "      <td>Male</td>\n",
       "      <td>Yes</td>\n",
       "      <td>32</td>\n",
       "      <td>25.0</td>\n",
       "      <td>0</td>\n",
       "      <td>Friday</td>\n",
       "    </tr>\n",
       "    <tr>\n",
       "      <th>183410</th>\n",
       "      <td>139</td>\n",
       "      <td>2019-02-01 00:05:34</td>\n",
       "      <td>2019-02-01 00:07:54</td>\n",
       "      <td>220</td>\n",
       "      <td>216</td>\n",
       "      <td>5095</td>\n",
       "      <td>Subscriber</td>\n",
       "      <td>Male</td>\n",
       "      <td>No</td>\n",
       "      <td>34</td>\n",
       "      <td>44.0</td>\n",
       "      <td>0</td>\n",
       "      <td>Friday</td>\n",
       "    </tr>\n",
       "    <tr>\n",
       "      <th>183411</th>\n",
       "      <td>271</td>\n",
       "      <td>2019-02-01 00:00:20</td>\n",
       "      <td>2019-02-01 00:04:52</td>\n",
       "      <td>24</td>\n",
       "      <td>37</td>\n",
       "      <td>1057</td>\n",
       "      <td>Subscriber</td>\n",
       "      <td>Male</td>\n",
       "      <td>No</td>\n",
       "      <td>33</td>\n",
       "      <td>46.0</td>\n",
       "      <td>0</td>\n",
       "      <td>Friday</td>\n",
       "    </tr>\n",
       "  </tbody>\n",
       "</table>\n",
       "<p>174691 rows × 13 columns</p>\n",
       "</div>"
      ],
      "text/plain": [
       "        duration_sec          start_time            end_time  \\\n",
       "0              52185 2019-02-28 17:32:10 2019-03-01 08:01:55   \n",
       "2              61854 2019-02-28 12:13:13 2019-03-01 05:24:08   \n",
       "3              36490 2019-02-28 17:54:26 2019-03-01 04:02:36   \n",
       "4               1585 2019-02-28 23:54:18 2019-03-01 00:20:44   \n",
       "5               1793 2019-02-28 23:49:58 2019-03-01 00:19:51   \n",
       "...              ...                 ...                 ...   \n",
       "183407           480 2019-02-01 00:04:49 2019-02-01 00:12:50   \n",
       "183408           313 2019-02-01 00:05:34 2019-02-01 00:10:48   \n",
       "183409           141 2019-02-01 00:06:05 2019-02-01 00:08:27   \n",
       "183410           139 2019-02-01 00:05:34 2019-02-01 00:07:54   \n",
       "183411           271 2019-02-01 00:00:20 2019-02-01 00:04:52   \n",
       "\n",
       "        start_station_id  end_station_id  bike_id   user_type member_gender  \\\n",
       "0                     21              13     4902    Customer          Male   \n",
       "2                     86               3     5905    Customer          Male   \n",
       "3                    375              70     6638  Subscriber         Other   \n",
       "4                      7             222     4898  Subscriber          Male   \n",
       "5                     93             323     5200  Subscriber          Male   \n",
       "...                  ...             ...      ...         ...           ...   \n",
       "183407                27             324     4832  Subscriber          Male   \n",
       "183408                21              66     4960  Subscriber          Male   \n",
       "183409               278             277     3824  Subscriber          Male   \n",
       "183410               220             216     5095  Subscriber          Male   \n",
       "183411                24              37     1057  Subscriber          Male   \n",
       "\n",
       "       bike_share_for_all_trip  age_member  distance_trav  start_time_hour  \\\n",
       "0                           No          38           32.0               17   \n",
       "2                           No          50          177.0               12   \n",
       "3                           No          33           17.0               17   \n",
       "4                          Yes          48          164.0               23   \n",
       "5                           No          63          199.0               23   \n",
       "...                        ...         ...            ...              ...   \n",
       "183407                      No          26          106.0                0   \n",
       "183408                      No          38           86.0                0   \n",
       "183409                     Yes          32           25.0                0   \n",
       "183410                      No          34           44.0                0   \n",
       "183411                      No          33           46.0                0   \n",
       "\n",
       "       start_time_weekday  \n",
       "0                Thursday  \n",
       "2                Thursday  \n",
       "3                Thursday  \n",
       "4                Thursday  \n",
       "5                Thursday  \n",
       "...                   ...  \n",
       "183407             Friday  \n",
       "183408             Friday  \n",
       "183409             Friday  \n",
       "183410             Friday  \n",
       "183411             Friday  \n",
       "\n",
       "[174691 rows x 13 columns]"
      ]
     },
     "execution_count": 41,
     "metadata": {},
     "output_type": "execute_result"
    }
   ],
   "source": [
    "df_copy"
   ]
  },
  {
   "cell_type": "code",
   "execution_count": 42,
   "id": "2b16c06f",
   "metadata": {},
   "outputs": [
    {
     "name": "stdout",
     "output_type": "stream",
     "text": [
      "<class 'pandas.core.frame.DataFrame'>\n",
      "Int64Index: 174691 entries, 0 to 183411\n",
      "Data columns (total 13 columns):\n",
      " #   Column                   Non-Null Count   Dtype         \n",
      "---  ------                   --------------   -----         \n",
      " 0   duration_sec             174691 non-null  int64         \n",
      " 1   start_time               174691 non-null  datetime64[ns]\n",
      " 2   end_time                 174691 non-null  datetime64[ns]\n",
      " 3   start_station_id         174691 non-null  int64         \n",
      " 4   end_station_id           174691 non-null  int64         \n",
      " 5   bike_id                  174691 non-null  int64         \n",
      " 6   user_type                174691 non-null  object        \n",
      " 7   member_gender            174691 non-null  object        \n",
      " 8   bike_share_for_all_trip  174691 non-null  object        \n",
      " 9   age_member               174691 non-null  int64         \n",
      " 10  distance_trav            174691 non-null  float64       \n",
      " 11  start_time_hour          174691 non-null  int64         \n",
      " 12  start_time_weekday       174691 non-null  object        \n",
      "dtypes: datetime64[ns](2), float64(1), int64(6), object(4)\n",
      "memory usage: 18.7+ MB\n"
     ]
    }
   ],
   "source": [
    "df_copy.info()"
   ]
  },
  {
   "cell_type": "code",
   "execution_count": 43,
   "id": "17a921d5",
   "metadata": {},
   "outputs": [],
   "source": [
    "#Suppresion des colonnes end_time,end_station_id,start_time_month\n",
    "df_copy.drop(df_copy.columns[[1,2,4,]],axis=1,inplace=True)"
   ]
  },
  {
   "cell_type": "code",
   "execution_count": 44,
   "id": "5c66013d",
   "metadata": {},
   "outputs": [
    {
     "name": "stdout",
     "output_type": "stream",
     "text": [
      "<class 'pandas.core.frame.DataFrame'>\n",
      "Int64Index: 174691 entries, 0 to 183411\n",
      "Data columns (total 10 columns):\n",
      " #   Column                   Non-Null Count   Dtype  \n",
      "---  ------                   --------------   -----  \n",
      " 0   duration_sec             174691 non-null  int64  \n",
      " 1   start_station_id         174691 non-null  int64  \n",
      " 2   bike_id                  174691 non-null  int64  \n",
      " 3   user_type                174691 non-null  object \n",
      " 4   member_gender            174691 non-null  object \n",
      " 5   bike_share_for_all_trip  174691 non-null  object \n",
      " 6   age_member               174691 non-null  int64  \n",
      " 7   distance_trav            174691 non-null  float64\n",
      " 8   start_time_hour          174691 non-null  int64  \n",
      " 9   start_time_weekday       174691 non-null  object \n",
      "dtypes: float64(1), int64(5), object(4)\n",
      "memory usage: 14.7+ MB\n"
     ]
    }
   ],
   "source": [
    "df_copy.info()"
   ]
  },
  {
   "cell_type": "code",
   "execution_count": 45,
   "id": "8f2136f3",
   "metadata": {},
   "outputs": [],
   "source": [
    "#Stockage du fichier final en csv pour la visualisation des données exploratoires\n",
    "df_copy.to_csv('Ford_GoBike_master.csv',index=False)"
   ]
  },
  {
   "cell_type": "markdown",
   "id": "09dd9a4d",
   "metadata": {},
   "source": [
    "## Exploration univariée"
   ]
  },
  {
   "cell_type": "code",
   "execution_count": 46,
   "id": "f03db053",
   "metadata": {},
   "outputs": [],
   "source": [
    "#Lecture des données\n",
    "df_master=pd.read_csv('Ford_GoBike_master.csv',sep=',')"
   ]
  },
  {
   "cell_type": "code",
   "execution_count": 47,
   "id": "06cd46eb",
   "metadata": {},
   "outputs": [
    {
     "data": {
      "text/html": [
       "<div>\n",
       "<style scoped>\n",
       "    .dataframe tbody tr th:only-of-type {\n",
       "        vertical-align: middle;\n",
       "    }\n",
       "\n",
       "    .dataframe tbody tr th {\n",
       "        vertical-align: top;\n",
       "    }\n",
       "\n",
       "    .dataframe thead th {\n",
       "        text-align: right;\n",
       "    }\n",
       "</style>\n",
       "<table border=\"1\" class=\"dataframe\">\n",
       "  <thead>\n",
       "    <tr style=\"text-align: right;\">\n",
       "      <th></th>\n",
       "      <th>duration_sec</th>\n",
       "      <th>start_station_id</th>\n",
       "      <th>bike_id</th>\n",
       "      <th>user_type</th>\n",
       "      <th>member_gender</th>\n",
       "      <th>bike_share_for_all_trip</th>\n",
       "      <th>age_member</th>\n",
       "      <th>distance_trav</th>\n",
       "      <th>start_time_hour</th>\n",
       "      <th>start_time_weekday</th>\n",
       "    </tr>\n",
       "  </thead>\n",
       "  <tbody>\n",
       "    <tr>\n",
       "      <th>0</th>\n",
       "      <td>52185</td>\n",
       "      <td>21</td>\n",
       "      <td>4902</td>\n",
       "      <td>Customer</td>\n",
       "      <td>Male</td>\n",
       "      <td>No</td>\n",
       "      <td>38</td>\n",
       "      <td>32.0</td>\n",
       "      <td>17</td>\n",
       "      <td>Thursday</td>\n",
       "    </tr>\n",
       "    <tr>\n",
       "      <th>1</th>\n",
       "      <td>61854</td>\n",
       "      <td>86</td>\n",
       "      <td>5905</td>\n",
       "      <td>Customer</td>\n",
       "      <td>Male</td>\n",
       "      <td>No</td>\n",
       "      <td>50</td>\n",
       "      <td>177.0</td>\n",
       "      <td>12</td>\n",
       "      <td>Thursday</td>\n",
       "    </tr>\n",
       "    <tr>\n",
       "      <th>2</th>\n",
       "      <td>36490</td>\n",
       "      <td>375</td>\n",
       "      <td>6638</td>\n",
       "      <td>Subscriber</td>\n",
       "      <td>Other</td>\n",
       "      <td>No</td>\n",
       "      <td>33</td>\n",
       "      <td>17.0</td>\n",
       "      <td>17</td>\n",
       "      <td>Thursday</td>\n",
       "    </tr>\n",
       "    <tr>\n",
       "      <th>3</th>\n",
       "      <td>1585</td>\n",
       "      <td>7</td>\n",
       "      <td>4898</td>\n",
       "      <td>Subscriber</td>\n",
       "      <td>Male</td>\n",
       "      <td>Yes</td>\n",
       "      <td>48</td>\n",
       "      <td>164.0</td>\n",
       "      <td>23</td>\n",
       "      <td>Thursday</td>\n",
       "    </tr>\n",
       "    <tr>\n",
       "      <th>4</th>\n",
       "      <td>1793</td>\n",
       "      <td>93</td>\n",
       "      <td>5200</td>\n",
       "      <td>Subscriber</td>\n",
       "      <td>Male</td>\n",
       "      <td>No</td>\n",
       "      <td>63</td>\n",
       "      <td>199.0</td>\n",
       "      <td>23</td>\n",
       "      <td>Thursday</td>\n",
       "    </tr>\n",
       "    <tr>\n",
       "      <th>...</th>\n",
       "      <td>...</td>\n",
       "      <td>...</td>\n",
       "      <td>...</td>\n",
       "      <td>...</td>\n",
       "      <td>...</td>\n",
       "      <td>...</td>\n",
       "      <td>...</td>\n",
       "      <td>...</td>\n",
       "      <td>...</td>\n",
       "      <td>...</td>\n",
       "    </tr>\n",
       "    <tr>\n",
       "      <th>174686</th>\n",
       "      <td>480</td>\n",
       "      <td>27</td>\n",
       "      <td>4832</td>\n",
       "      <td>Subscriber</td>\n",
       "      <td>Male</td>\n",
       "      <td>No</td>\n",
       "      <td>26</td>\n",
       "      <td>106.0</td>\n",
       "      <td>0</td>\n",
       "      <td>Friday</td>\n",
       "    </tr>\n",
       "    <tr>\n",
       "      <th>174687</th>\n",
       "      <td>313</td>\n",
       "      <td>21</td>\n",
       "      <td>4960</td>\n",
       "      <td>Subscriber</td>\n",
       "      <td>Male</td>\n",
       "      <td>No</td>\n",
       "      <td>38</td>\n",
       "      <td>86.0</td>\n",
       "      <td>0</td>\n",
       "      <td>Friday</td>\n",
       "    </tr>\n",
       "    <tr>\n",
       "      <th>174688</th>\n",
       "      <td>141</td>\n",
       "      <td>278</td>\n",
       "      <td>3824</td>\n",
       "      <td>Subscriber</td>\n",
       "      <td>Male</td>\n",
       "      <td>Yes</td>\n",
       "      <td>32</td>\n",
       "      <td>25.0</td>\n",
       "      <td>0</td>\n",
       "      <td>Friday</td>\n",
       "    </tr>\n",
       "    <tr>\n",
       "      <th>174689</th>\n",
       "      <td>139</td>\n",
       "      <td>220</td>\n",
       "      <td>5095</td>\n",
       "      <td>Subscriber</td>\n",
       "      <td>Male</td>\n",
       "      <td>No</td>\n",
       "      <td>34</td>\n",
       "      <td>44.0</td>\n",
       "      <td>0</td>\n",
       "      <td>Friday</td>\n",
       "    </tr>\n",
       "    <tr>\n",
       "      <th>174690</th>\n",
       "      <td>271</td>\n",
       "      <td>24</td>\n",
       "      <td>1057</td>\n",
       "      <td>Subscriber</td>\n",
       "      <td>Male</td>\n",
       "      <td>No</td>\n",
       "      <td>33</td>\n",
       "      <td>46.0</td>\n",
       "      <td>0</td>\n",
       "      <td>Friday</td>\n",
       "    </tr>\n",
       "  </tbody>\n",
       "</table>\n",
       "<p>174691 rows × 10 columns</p>\n",
       "</div>"
      ],
      "text/plain": [
       "        duration_sec  start_station_id  bike_id   user_type member_gender  \\\n",
       "0              52185                21     4902    Customer          Male   \n",
       "1              61854                86     5905    Customer          Male   \n",
       "2              36490               375     6638  Subscriber         Other   \n",
       "3               1585                 7     4898  Subscriber          Male   \n",
       "4               1793                93     5200  Subscriber          Male   \n",
       "...              ...               ...      ...         ...           ...   \n",
       "174686           480                27     4832  Subscriber          Male   \n",
       "174687           313                21     4960  Subscriber          Male   \n",
       "174688           141               278     3824  Subscriber          Male   \n",
       "174689           139               220     5095  Subscriber          Male   \n",
       "174690           271                24     1057  Subscriber          Male   \n",
       "\n",
       "       bike_share_for_all_trip  age_member  distance_trav  start_time_hour  \\\n",
       "0                           No          38           32.0               17   \n",
       "1                           No          50          177.0               12   \n",
       "2                           No          33           17.0               17   \n",
       "3                          Yes          48          164.0               23   \n",
       "4                           No          63          199.0               23   \n",
       "...                        ...         ...            ...              ...   \n",
       "174686                      No          26          106.0                0   \n",
       "174687                      No          38           86.0                0   \n",
       "174688                     Yes          32           25.0                0   \n",
       "174689                      No          34           44.0                0   \n",
       "174690                      No          33           46.0                0   \n",
       "\n",
       "       start_time_weekday  \n",
       "0                Thursday  \n",
       "1                Thursday  \n",
       "2                Thursday  \n",
       "3                Thursday  \n",
       "4                Thursday  \n",
       "...                   ...  \n",
       "174686             Friday  \n",
       "174687             Friday  \n",
       "174688             Friday  \n",
       "174689             Friday  \n",
       "174690             Friday  \n",
       "\n",
       "[174691 rows x 10 columns]"
      ]
     },
     "execution_count": 47,
     "metadata": {},
     "output_type": "execute_result"
    }
   ],
   "source": [
    "df_master"
   ]
  },
  {
   "cell_type": "code",
   "execution_count": 48,
   "id": "cd134cbe",
   "metadata": {},
   "outputs": [
    {
     "data": {
      "text/plain": [
       "Thursday     33665\n",
       "Tuesday      30551\n",
       "Wednesday    28390\n",
       "Friday       27627\n",
       "Monday       25596\n",
       "Sunday       14480\n",
       "Saturday     14382\n",
       "Name: start_time_weekday, dtype: int64"
      ]
     },
     "execution_count": 48,
     "metadata": {},
     "output_type": "execute_result"
    }
   ],
   "source": [
    "df_master['start_time_weekday'].value_counts()"
   ]
  },
  {
   "cell_type": "markdown",
   "id": "6dab823e",
   "metadata": {},
   "source": [
    "### Analyse des variables catégorielles\n",
    "\n",
    "### Variables ordinales"
   ]
  },
  {
   "cell_type": "markdown",
   "id": "438b3ecc",
   "metadata": {},
   "source": [
    "- **Quel est la répartition des heures de départ?**"
   ]
  },
  {
   "cell_type": "code",
   "execution_count": 49,
   "id": "33094ddd",
   "metadata": {},
   "outputs": [
    {
     "data": {
      "text/plain": [
       "Text(0, 0.5, 'frequence')"
      ]
     },
     "execution_count": 49,
     "metadata": {},
     "output_type": "execute_result"
    },
    {
     "data": {
      "image/png": "[encoded data removed]",
      "text/plain": [
       "<Figure size 640x480 with 1 Axes>"
      ]
     },
     "metadata": {},
     "output_type": "display_data"
    }
   ],
   "source": [
    "#Définition de la couleur \n",
    "color_master=sn.color_palette()[0]\n",
    "#Calcul des 30 premiers vélos les plus sollicités\n",
    "sn.countplot(data=df_master, x='start_time_hour',color=color_master)\n",
    "plt.xlabel('hour')\n",
    "plt.ylabel('frequence')"
   ]
  },
  {
   "cell_type": "markdown",
   "id": "72a8bf79",
   "metadata": {},
   "source": [
    "- **Observation:** Les heures de départ les plus significatives sont 17h et 7h après quoi vient 18h"
   ]
  },
  {
   "cell_type": "markdown",
   "id": "a4e7678b",
   "metadata": {},
   "source": [
    "- **Quel est la répartition des 10 stations de départ les plus sollicitées?**"
   ]
  },
  {
   "cell_type": "code",
   "execution_count": 50,
   "id": "7565b5f6",
   "metadata": {},
   "outputs": [
    {
     "data": {
      "text/plain": [
       "Text(0, 0.5, 'frequence')"
      ]
     },
     "execution_count": 50,
     "metadata": {},
     "output_type": "execute_result"
    },
    {
     "data": {
      "image/png": "[encoded data removed]",
      "text/plain": [
       "<Figure size 700x700 with 1 Axes>"
      ]
     },
     "metadata": {},
     "output_type": "display_data"
    }
   ],
   "source": [
    "#Calcul des 25 premières stations les plus sollicitées\n",
    "fig_dim=(7,7)#Création de la dimension de l'objet figure\n",
    "fig,ax=plt.subplots(figsize=fig_dim)#Création d'un objet figure ayant comme paramettre ca dimension\n",
    "color_master=sn.color_palette()[0]#Définition de la couleur uniforme\n",
    "top25=df_master['start_station_id'].value_counts().head(25).index#Selection des 25 meilleurs stations et renvoie index\n",
    "sn.countplot(data=df_master,x='start_station_id',color=color_master,order=top25)\n",
    "plt.xlabel('station id')\n",
    "plt.ylabel('frequence')"
   ]
  },
  {
   "cell_type": "markdown",
   "id": "046a77e0",
   "metadata": {},
   "source": [
    " **Observation:** La station la plus prisée pour les départ de course est la 58=Lake Merritt BART Station"
   ]
  },
  {
   "cell_type": "markdown",
   "id": "e47cb61d",
   "metadata": {},
   "source": [
    "**Quel est la répartition des 25 premiers différents types de vélos?**"
   ]
  },
  {
   "cell_type": "code",
   "execution_count": 51,
   "id": "a1f15182",
   "metadata": {},
   "outputs": [
    {
     "data": {
      "text/plain": [
       "Text(0, 0.5, 'frequence')"
      ]
     },
     "execution_count": 51,
     "metadata": {},
     "output_type": "execute_result"
    },
    {
     "data": {
      "image/png": "[encoded data removed]",
      "text/plain": [
       "<Figure size 700x700 with 1 Axes>"
      ]
     },
     "metadata": {},
     "output_type": "display_data"
    }
   ],
   "source": [
    "#Calcul des 25 premiers vélos les plus sollicitées\n",
    "fig_dim=(7,7)#Création de la dimension de l'objet figure\n",
    "fig,ax=plt.subplots(figsize=fig_dim)#Création d'un objet figure ayant comme paramettre ca dimension\n",
    "color_master=sn.color_palette()[0]#Définition de la couleur uniforme\n",
    "top25=df_master['bike_id'].value_counts().head(25).index#Selection des 25 meilleurs stations et renvoie index\n",
    "sn.countplot(data=df_master,x='bike_id',color=color_master,order=top25)\n",
    "plt.xticks(rotation=45)\n",
    "plt.xlabel('Bike id')\n",
    "plt.ylabel('frequence')"
   ]
  },
  {
   "cell_type": "markdown",
   "id": "fc89c749",
   "metadata": {},
   "source": [
    "**Observation:** Les vélos sont sollicités ont pratiquement la meme distribution"
   ]
  },
  {
   "cell_type": "markdown",
   "id": "d749388a",
   "metadata": {},
   "source": [
    "### Variables nominales"
   ]
  },
  {
   "cell_type": "markdown",
   "id": "c3e8f039",
   "metadata": {},
   "source": [
    "- **Comment sont reparti les types de consommateurs?**"
   ]
  },
  {
   "cell_type": "code",
   "execution_count": 52,
   "id": "4e0e386e",
   "metadata": {},
   "outputs": [
    {
     "data": {
      "text/plain": [
       "<matplotlib.legend.Legend at 0x7fdbe1d31df0>"
      ]
     },
     "execution_count": 52,
     "metadata": {},
     "output_type": "execute_result"
    },
    {
     "data": {
      "image/png": "[encoded data removed]",
      "text/plain": [
       "<Figure size 640x480 with 1 Axes>"
      ]
     },
     "metadata": {},
     "output_type": "display_data"
    }
   ],
   "source": [
    "#Diagramme circulaire de la répartition des utilisateurs\n",
    "labels=['Customer','Subcriber']\n",
    "sizes=[16518,158173]\n",
    "colors = ['yellowgreen', 'lightskyblue']\n",
    "plt.pie(sizes, labels=labels, colors=colors, \n",
    "        autopct='%1.1f%%', shadow=True, startangle=90)\n",
    "plt.legend(title='Répartition des participants par type')"
   ]
  },
  {
   "cell_type": "markdown",
   "id": "7161f5f3",
   "metadata": {},
   "source": [
    "**Observation:** Nous avons plus de souscripteurs que de consommateurs"
   ]
  },
  {
   "cell_type": "markdown",
   "id": "19b06f2c",
   "metadata": {},
   "source": [
    "- **Comment sont répartie les membres suivant leur genre member_gender?**"
   ]
  },
  {
   "cell_type": "code",
   "execution_count": 53,
   "id": "be464b88",
   "metadata": {},
   "outputs": [
    {
     "data": {
      "text/plain": [
       "<matplotlib.legend.Legend at 0x7fdbe0d37f10>"
      ]
     },
     "execution_count": 53,
     "metadata": {},
     "output_type": "execute_result"
    },
    {
     "data": {
      "image/png": "[encoded data removed]",
      "text/plain": [
       "<Figure size 640x480 with 1 Axes>"
      ]
     },
     "metadata": {},
     "output_type": "display_data"
    }
   ],
   "source": [
    "#Croissant de la répartition par sexe des participants\n",
    "labels=['Male','Female','Other']\n",
    "sizes=[130330,40719,3642]\n",
    "colors = ['yellowgreen', 'gold', 'lightskyblue']\n",
    "plt.pie(sizes, labels=labels, colors=colors, \n",
    "        autopct='%1.1f%%', shadow=True, startangle=90)\n",
    "plt.legend(title='Répartition par genre des membres')"
   ]
  },
  {
   "cell_type": "code",
   "execution_count": 54,
   "id": "d649c8a9",
   "metadata": {},
   "outputs": [
    {
     "data": {
      "text/plain": [
       "Male      130330\n",
       "Female     40719\n",
       "Other       3642\n",
       "Name: member_gender, dtype: int64"
      ]
     },
     "execution_count": 54,
     "metadata": {},
     "output_type": "execute_result"
    }
   ],
   "source": [
    "df_master['member_gender'].value_counts()"
   ]
  },
  {
   "cell_type": "markdown",
   "id": "0a9be24e",
   "metadata": {},
   "source": [
    "**Observation:** La tres grandes partie des participants aux courses sont des hommes"
   ]
  },
  {
   "cell_type": "markdown",
   "id": "f528d52b",
   "metadata": {},
   "source": [
    "- **Comment sont répartie les courses par jours de la semaine?**"
   ]
  },
  {
   "cell_type": "code",
   "execution_count": 55,
   "id": "d2c7e9c3",
   "metadata": {},
   "outputs": [
    {
     "data": {
      "text/plain": [
       "Text(0, 0.5, 'race')"
      ]
     },
     "execution_count": 55,
     "metadata": {},
     "output_type": "execute_result"
    },
    {
     "data": {
      "image/png": "[encoded data removed]",
      "text/plain": [
       "<Figure size 640x480 with 1 Axes>"
      ]
     },
     "metadata": {},
     "output_type": "display_data"
    }
   ],
   "source": [
    "#Definition de la couleur de chaque éléments\n",
    "color_master=sn.color_palette()[0]\n",
    "#Définition de l'ordre des jours de la semaine\n",
    "weekdays_order=['Monday','Tuesday','Wednesday','Thursday','Friday','Saturday','Sunday']\n",
    "#Création du diagramme a barre avec la fonction countplot de seaborn\n",
    "sn.countplot(data=df_master,x='start_time_weekday',color=color_master,order=weekdays_order)\n",
    "plt.xticks(rotation=45)\n",
    "plt.xlabel('weekdays')\n",
    "plt.ylabel('race')"
   ]
  },
  {
   "cell_type": "markdown",
   "id": "6ad28443",
   "metadata": {},
   "source": [
    "**Observation:** Les jours de départ des courses sont les Jeudi,les Mercredi et les vendredi"
   ]
  },
  {
   "cell_type": "markdown",
   "id": "6f926084",
   "metadata": {},
   "source": [
    "### Variables quantitatives"
   ]
  },
  {
   "cell_type": "markdown",
   "id": "98f08266",
   "metadata": {},
   "source": [
    "### Variables continues"
   ]
  },
  {
   "cell_type": "markdown",
   "id": "34394c2a",
   "metadata": {},
   "source": [
    "- **Comment sont reparti les membres suivant leurs ages?**"
   ]
  },
  {
   "cell_type": "code",
   "execution_count": 57,
   "id": "7b91fa1a",
   "metadata": {},
   "outputs": [
    {
     "data": {
      "text/plain": [
       "Text(0, 0.5, 'frequence')"
      ]
     },
     "execution_count": 57,
     "metadata": {},
     "output_type": "execute_result"
    },
    {
     "data": {
      "image/png": "[encoded data removed]",
      "text/plain": [
       "<Figure size 640x480 with 1 Axes>"
      ]
     },
     "metadata": {},
     "output_type": "display_data"
    }
   ],
   "source": [
    "#Répartition des ages des membres\n",
    "bins = np.arange(0, df_master['age_member'].max()+5, 5)\n",
    "plt.hist(data =df_master, x = 'age_member', bins = bins)\n",
    "plt.xlabel('age_member')\n",
    "plt.ylabel('frequence')"
   ]
  },
  {
   "cell_type": "markdown",
   "id": "763e1bf4",
   "metadata": {},
   "source": [
    "**Observation:** La grande majorité des participants ont un age compris entre 20 et 70 ans."
   ]
  },
  {
   "cell_type": "markdown",
   "id": "87f55e6d",
   "metadata": {},
   "source": [
    "- **Quel est la répartition de la durée des courses?**"
   ]
  },
  {
   "cell_type": "code",
   "execution_count": 59,
   "id": "d3e30279",
   "metadata": {},
   "outputs": [
    {
     "data": {
      "text/plain": [
       "Text(0, 0.5, 'frequence')"
      ]
     },
     "execution_count": 59,
     "metadata": {},
     "output_type": "execute_result"
    },
    {
     "data": {
      "image/png": "[encoded data removed]",
      "text/plain": [
       "<Figure size 640x480 with 1 Axes>"
      ]
     },
     "metadata": {},
     "output_type": "display_data"
    }
   ],
   "source": [
    "#Répartition de la durée des trajets\n",
    "bins = np.arange(0, df_master['duration_sec'].max()+3500,3500)\n",
    "plt.hist(data =df_master, x = 'duration_sec', bins = bins)\n",
    "plt.xlabel('duration_sec')\n",
    "plt.ylabel('frequence')"
   ]
  },
  {
   "cell_type": "markdown",
   "id": "00e53f29",
   "metadata": {},
   "source": [
    "**Observation:** La durée du parcours est constante et est moins de 1000 secondes"
   ]
  },
  {
   "cell_type": "markdown",
   "id": "4f76e78f",
   "metadata": {},
   "source": [
    "- **Quel est la répartition de la distance des courses?**"
   ]
  },
  {
   "cell_type": "code",
   "execution_count": 60,
   "id": "b36ad6ab",
   "metadata": {},
   "outputs": [
    {
     "data": {
      "text/plain": [
       "Text(0, 0.5, 'frequence')"
      ]
     },
     "execution_count": 60,
     "metadata": {},
     "output_type": "execute_result"
    },
    {
     "data": {
      "image/png": "[encoded data removed]",
      "text/plain": [
       "<Figure size 640x480 with 1 Axes>"
      ]
     },
     "metadata": {},
     "output_type": "display_data"
    }
   ],
   "source": [
    "#Répartition de la longeur des distances parcourues\n",
    "bins = np.arange(0, df_master['distance_trav'].max()+150,150)\n",
    "plt.hist(data =df_master, x = 'distance_trav', bins = bins)\n",
    "plt.xlabel('distance_trav')\n",
    "plt.ylabel('frequence')\n"
   ]
  },
  {
   "cell_type": "markdown",
   "id": "0b397654",
   "metadata": {},
   "source": [
    "**Observation:** Les distances parcourues par les participants aux courses"
   ]
  },
  {
   "cell_type": "markdown",
   "id": "f03d5af5",
   "metadata": {},
   "source": [
    "**Discutez de la ou des distributions de vos variables d'intérêt. Y avait-il des points inhabituels ? Avez-vous eu besoin d'effectuer des transformations ?**\n",
    "\n",
    "Nous ne constatons aucune variation inabituelle sur nos variables d'interets il convient neamoins de mentionner que pour le cas de l'etude des ages il serait convenable de n'etudier que la population ayant moins de 70 ans a cause de la tres faible proportion des participants des courses dont l'age est supérieur à 70 ans."
   ]
  },
  {
   "cell_type": "markdown",
   "id": "7ed3aef8",
   "metadata": {},
   "source": [
    "**Parmi les fonctionnalités que vous avez étudiées, y avait-il des distributions inhabituelles ? Avez-vous effectué des opérations sur les données pour ranger, ajuster ou modifier la forme des données ? Si oui, pourquoi avez-vous fait cela ?**"
   ]
  },
  {
   "cell_type": "markdown",
   "id": "56cfc4ab",
   "metadata": {},
   "source": [
    "Parmis les distribution étudiées nous avons pu remarquer que la distribution des parcours en secondes et la distributionde la distance parcourue ont quasiment similaires.Nous avons du fractionner la partie start_date en semaine puis en heure afin de pouvoir travailler.Nous avons aussi du calculer les distances parcouries en fonctions des informations données sur les altitudes et longitudes des points de départ et des points d'arrivées."
   ]
  },
  {
   "cell_type": "markdown",
   "id": "b955db36",
   "metadata": {},
   "source": [
    "## Exploration bivariée"
   ]
  },
  {
   "cell_type": "markdown",
   "id": "916776e1",
   "metadata": {},
   "source": [
    "**Quel est la relation entre l'heure de départ et la distance parcourue?**"
   ]
  },
  {
   "cell_type": "code",
   "execution_count": 61,
   "id": "48154a91",
   "metadata": {},
   "outputs": [
    {
     "data": {
      "text/plain": [
       "Text(0, 0.5, 'duration_sec')"
      ]
     },
     "execution_count": 61,
     "metadata": {},
     "output_type": "execute_result"
    },
    {
     "data": {
      "image/png": "[encoded data removed]",
      "text/plain": [
       "<Figure size 700x700 with 1 Axes>"
      ]
     },
     "metadata": {},
     "output_type": "display_data"
    }
   ],
   "source": [
    "#Construction du nuage de points grace à la fonction regplot de seaborn\n",
    "#Définir la dimenson de la figure à dessiner\n",
    "plt.figure(figsize=[7,7])\n",
    "plt.scatter(data=df_master,x='duration_sec',y='distance_trav',alpha=0.5)\n",
    "plt.xlabel('distance_trav')\n",
    "plt.ylabel('duration_sec')"
   ]
  },
  {
   "cell_type": "markdown",
   "id": "b412fd8f",
   "metadata": {},
   "source": [
    "**Observation:** La relation qui lie l'heure de départ et la distance parcourue est linéaire mis a par certaines valeurs abérrantes"
   ]
  },
  {
   "cell_type": "markdown",
   "id": "3db8858c",
   "metadata": {},
   "source": [
    "**Quel est la relation entre la durée de parcour et l'age?**"
   ]
  },
  {
   "cell_type": "code",
   "execution_count": 62,
   "id": "29e03085",
   "metadata": {},
   "outputs": [
    {
     "data": {
      "text/plain": [
       "Text(0, 0.5, 'Distance parcourue')"
      ]
     },
     "execution_count": 62,
     "metadata": {},
     "output_type": "execute_result"
    },
    {
     "data": {
      "image/png": "[encoded data removed]",
      "text/plain": [
       "<Figure size 700x700 with 1 Axes>"
      ]
     },
     "metadata": {},
     "output_type": "display_data"
    }
   ],
   "source": [
    "#Tracé d'un regplot avec seaborn\n",
    "#Définition de la dimension de la figure\n",
    "plt.figure(figsize=[7,7])\n",
    "sn.regplot(data = df_master, x = 'age_member', y='distance_trav',truncate=True,x_jitter=0.1,scatter_kws={'alpha':1/10}) \n",
    "plt.xlabel('Age') \n",
    "plt.ylabel('Distance parcourue')"
   ]
  },
  {
   "cell_type": "markdown",
   "id": "f61a627b",
   "metadata": {},
   "source": [
    "**Observation:** La relation qui lie l'age et la distance parcourue est constante"
   ]
  },
  {
   "cell_type": "markdown",
   "id": "d837f284",
   "metadata": {},
   "source": [
    "**Quels est la durée du parcours en fonction du sexe des membres?**"
   ]
  },
  {
   "cell_type": "code",
   "execution_count": 63,
   "id": "2b2fad6a",
   "metadata": {},
   "outputs": [
    {
     "data": {
      "text/plain": [
       "Text(0, 0.5, 'duration_sec')"
      ]
     },
     "execution_count": 63,
     "metadata": {},
     "output_type": "execute_result"
    },
    {
     "data": {
      "image/png": "[encoded data removed]",
      "text/plain": [
       "<Figure size 800x800 with 1 Axes>"
      ]
     },
     "metadata": {},
     "output_type": "display_data"
    }
   ],
   "source": [
    "#Diagrame en violon de la durée du parcours en fonction du sexe des membres\n",
    "#On definie les différentes catégories\n",
    "gender_classes=['Male','Female','Other']\n",
    "#On converti la liste gender_classes en categorie avec la fonction astype\n",
    "vclasses = pd.api.types.CategoricalDtype(ordered=True, categories=gender_classes)\n",
    "#On converti la colonne member_gender en catégorie class\n",
    "df_master['member_gender'] = df_master['member_gender'].astype(vclasses)\n",
    "#On défini les dimensions de la figure\n",
    "plt.figure(figsize=[8,8])\n",
    "#On défini une couleur uniforme\n",
    "base_color=sn.color_palette()[0]\n",
    "#On utilise la fonction violon de seaborn pour tracer\n",
    "sn.violinplot(data=df_master, x='member_gender', y='duration_sec',color=base_color,inner=None)\n",
    "plt.xlabel('gender_member')\n",
    "plt.ylabel('duration_sec')\n"
   ]
  },
  {
   "cell_type": "markdown",
   "id": "d3e4bab1",
   "metadata": {},
   "source": [
    "**Observation:** On remarque que pour la distribution des autres genre est plus arrondie par contre celui des males et des femelles est similaire"
   ]
  },
  {
   "cell_type": "markdown",
   "id": "da138b06",
   "metadata": {},
   "source": [
    "**Quels est la distance parcourue en fonction du genre des membres?**"
   ]
  },
  {
   "cell_type": "code",
   "execution_count": 64,
   "id": "33c5fad9",
   "metadata": {},
   "outputs": [
    {
     "data": {
      "text/plain": [
       "Text(0, 0.5, 'duration_sec')"
      ]
     },
     "execution_count": 64,
     "metadata": {},
     "output_type": "execute_result"
    },
    {
     "data": {
      "image/png": "[encoded data removed]",
      "text/plain": [
       "<Figure size 800x800 with 1 Axes>"
      ]
     },
     "metadata": {},
     "output_type": "display_data"
    }
   ],
   "source": [
    "#Box plot de la distance parcourue en fonction du genre des membres\n",
    "#On défini les dimensions de la figure\n",
    "plt.figure(figsize=[8,8])\n",
    "#On défini une couleur uniforme\n",
    "base_color=sn.color_palette()[0]\n",
    "#On utilise la fonction violon de seaborn pour tracer\n",
    "sn.boxplot(data=df_master, x='member_gender', y='distance_trav', color=base_color)\n",
    "plt.xlabel('member_gender')\n",
    "plt.ylabel('duration_sec')"
   ]
  },
  {
   "cell_type": "markdown",
   "id": "22edd59e",
   "metadata": {},
   "source": [
    "**Observation:** On remarque que pour les distributions sont les memes pour les trois genres et on remarques la présence des valeurs abérrantes plus marquées pour les hommes.Nous pourrions confirmer cette tendance avec le diagramme en facette suivant:"
   ]
  },
  {
   "cell_type": "markdown",
   "id": "26fbf572",
   "metadata": {},
   "source": [
    "**Quel est la proportion des Males,femelles,et other en fonction du type de consommateurs?**"
   ]
  },
  {
   "cell_type": "code",
   "execution_count": 65,
   "id": "bc571ed1",
   "metadata": {},
   "outputs": [
    {
     "data": {
      "text/plain": [
       "<AxesSubplot:xlabel='member_gender', ylabel='count'>"
      ]
     },
     "execution_count": 65,
     "metadata": {},
     "output_type": "execute_result"
    },
    {
     "data": {
      "image/png": "[encoded data removed]",
      "text/plain": [
       "<Figure size 640x480 with 1 Axes>"
      ]
     },
     "metadata": {},
     "output_type": "display_data"
    }
   ],
   "source": [
    "#Tracé du diagramme en barre en fonction du type de consommateur\n",
    "#On va utiliser pour cela la fonction countplot de seaborn\n",
    "sn.countplot(data =df_master, x = 'member_gender', hue = 'user_type') "
   ]
  },
  {
   "cell_type": "markdown",
   "id": "846490e5",
   "metadata": {},
   "source": [
    "**Observation:** On remarque qu'il y'a moins de consommateur chez les hommes que les autres catégories mais ils ont plus de consommateur que les autres genres repertoriés."
   ]
  },
  {
   "cell_type": "markdown",
   "id": "9d23d186",
   "metadata": {},
   "source": [
    "**Quel est la répartition des ages en fonction des genres des membres?**"
   ]
  },
  {
   "cell_type": "code",
   "execution_count": 66,
   "id": "06a58100",
   "metadata": {},
   "outputs": [
    {
     "data": {
      "text/plain": [
       "<seaborn.axisgrid.FacetGrid at 0x7fdbdf2727f0>"
      ]
     },
     "execution_count": 66,
     "metadata": {},
     "output_type": "execute_result"
    },
    {
     "data": {
      "image/png": "[encoded data removed]",
      "text/plain": [
       "<Figure size 900x300 with 3 Axes>"
      ]
     },
     "metadata": {},
     "output_type": "display_data"
    }
   ],
   "source": [
    "#Utilisation d'un graphique en facetage pour comparer les membres en fonction des heures\n",
    "#Nous allons utiliser la fonction facetgrid pour le faire\n",
    "g = sn.FacetGrid(data =df_master, col = 'member_gender') \n",
    "g.map(plt.hist, \"age_member\") "
   ]
  },
  {
   "cell_type": "markdown",
   "id": "3a3cd940",
   "metadata": {},
   "source": [
    "**Observation:** L'histogramme montre que la répartition des hommes est beaucoup plus dense que celle des femmes et des autres genres.La tres grande majorité des genres à un age n'excédant pas 60 ans"
   ]
  },
  {
   "cell_type": "markdown",
   "id": "34c59752",
   "metadata": {},
   "source": [
    "**Quels est la répartion des genres en fonction des jours de course?**"
   ]
  },
  {
   "cell_type": "code",
   "execution_count": 67,
   "id": "303248ab",
   "metadata": {},
   "outputs": [
    {
     "data": {
      "text/plain": [
       "(array([0, 1, 2, 3, 4, 5, 6]),\n",
       " [Text(0, 0, 'Monday'),\n",
       "  Text(1, 0, 'Thuesday'),\n",
       "  Text(2, 0, 'Wednesday'),\n",
       "  Text(3, 0, 'Thursday'),\n",
       "  Text(4, 0, 'Friday'),\n",
       "  Text(5, 0, 'Saturday'),\n",
       "  Text(6, 0, 'Sunday')])"
      ]
     },
     "execution_count": 67,
     "metadata": {},
     "output_type": "execute_result"
    },
    {
     "data": {
      "image/png": "[encoded data removed]",
      "text/plain": [
       "<Figure size 640x480 with 1 Axes>"
      ]
     },
     "metadata": {},
     "output_type": "display_data"
    }
   ],
   "source": [
    "#Tracé du diagramme en barre des journeés de course et du genre\n",
    "#On va utiliser pour cela la fonction countplot de seaborn\n",
    "#On definie les différentes catégories\n",
    "weekdays_classes=['Monday','Thuesday','Wednesday','Thursday','Friday','Saturday','Sunday']\n",
    "#On converti la liste gender_classes en categorie avec la fonction astype\n",
    "vclasses = pd.api.types.CategoricalDtype(ordered=True, categories=weekdays_classes)\n",
    "#On converti la colonne member_gender en catégorie class\n",
    "df_master['start_time_weekday'] = df_master['start_time_weekday'].astype(vclasses)\n",
    "sn.countplot(data =df_master, x = 'start_time_weekday', hue = 'member_gender')\n",
    "plt.xticks(rotation=45)"
   ]
  },
  {
   "cell_type": "markdown",
   "id": "f75c0055",
   "metadata": {},
   "source": [
    "**Observation:** Le Jeudi est le jour ou toutes les categories confondues assistent le plus aux courses par contre tres peu sont présent les week_ends(Samedi,dimanche)"
   ]
  },
  {
   "cell_type": "markdown",
   "id": "f39bda2d",
   "metadata": {},
   "source": [
    "**Quel est la proportion en fonction du genre qui utilise les velos de partage?**"
   ]
  },
  {
   "cell_type": "code",
   "execution_count": 68,
   "id": "9e167a7a",
   "metadata": {},
   "outputs": [
    {
     "data": {
      "text/plain": [
       "<AxesSubplot:xlabel='member_gender', ylabel='count'>"
      ]
     },
     "execution_count": 68,
     "metadata": {},
     "output_type": "execute_result"
    },
    {
     "data": {
      "image/png": "[encoded data removed]",
      "text/plain": [
       "<Figure size 640x480 with 1 Axes>"
      ]
     },
     "metadata": {},
     "output_type": "display_data"
    }
   ],
   "source": [
    "#Tracé du diagramme en barre en fonction de l'utilisation des vélos de partage\n",
    "#On va utiliser pour cela la fonction countplot de seaborn\n",
    "sn.countplot(data =df_master, x = 'member_gender', hue = 'bike_share_for_all_trip') "
   ]
  },
  {
   "cell_type": "markdown",
   "id": "461e362d",
   "metadata": {},
   "source": [
    "**Observation:** On remarque que les hommes utilisent énormement les vélos de partage mais il convient toute fois d'etre prudent car cela peut etre du au fait que les hommes sont aussi les plus nombreux."
   ]
  },
  {
   "cell_type": "markdown",
   "id": "4212aac7",
   "metadata": {},
   "source": [
    "**Parlez de certaines des relations que vous avez observées dans cette partie de l'enquête. Comment la ou les caractéristiques d'intérêt ont-elles varié avec d'autres caractéristiques de l'ensemble de données ?**\n",
    "\n",
    "Nous remarquons les relations interessantes suivantes avec notre variable princiaple d'interet qui est le genre:\n",
    "\n",
    "- Nous avons remarquer que toutes les genres confondues n'assistent pas vraiment les week-ends aux courses uniquement les jours de la semaine cela peut etre du au faiit qu'il n'y ai pas assez de communication la dessus le week_ends\n",
    "- Les ages les plus représentés sont compris entre 18 et 50 ans tout age confondue\n",
    "\n",
    "- La proportion des suscriber est nettement plus eleve que les consumers et ils le sont plus pour les males qui sont le plus représentés\n",
    "\n",
    "- Le genre n'influence pas vraiment sur la durée et distance parcourue.\n",
    "\n",
    "- Les heures et les durées ne dépendent pas des ages des participants\n",
    "\n",
    "- Les hommes utilisent énormément les vélos de partage par rapport aux autres genres.\n"
   ]
  },
  {
   "cell_type": "markdown",
   "id": "2e72a9e9",
   "metadata": {},
   "source": [
    "**Avez-vous observé des relations intéressantes entre les autres caractéristiques (pas la ou les principales caractéristiques d'intérêt) ?**\n",
    "Deux relations m'ont parues tres interressante du point de vu marketing:\n",
    "\n",
    "- La repartition des genres suivant les semaines de courses qui nous permettent de remarquer la tres faible participation des différents genres les week-ends ce qui pu supposer un manque de communication marketing ou une habitude de consommation pas vraiment connue.\n",
    "\n",
    "- La relation entre le genre et l'age est aussi importante car elle permet de segmenter la clientele suivant les ages et ainsi mieux orienter nos actions marketing."
   ]
  },
  {
   "cell_type": "markdown",
   "id": "52152b04",
   "metadata": {},
   "source": [
    "## Exploration multivariée"
   ]
  },
  {
   "cell_type": "markdown",
   "id": "c8b1a3a9",
   "metadata": {},
   "source": [
    "**Quel relation entre le genre,l'age et la durée de parcours?**"
   ]
  },
  {
   "cell_type": "code",
   "execution_count": 69,
   "id": "a22033c5",
   "metadata": {},
   "outputs": [
    {
     "name": "stderr",
     "output_type": "stream",
     "text": [
      "/home/dngan/anaconda3/lib/python3.9/site-packages/seaborn/axisgrid.py:337: UserWarning: The `size` parameter has been renamed to `height`; please update your code.\n",
      "  warnings.warn(msg, UserWarning)\n"
     ]
    },
    {
     "data": {
      "text/plain": [
       "<seaborn.axisgrid.FacetGrid at 0x7fdbdf03f7f0>"
      ]
     },
     "execution_count": 69,
     "metadata": {},
     "output_type": "execute_result"
    },
    {
     "data": {
      "image/png": "[encoded data removed]",
      "text/plain": [
       "<Figure size 625.986x500 with 1 Axes>"
      ]
     },
     "metadata": {},
     "output_type": "display_data"
    }
   ],
   "source": [
    "#Encodage par la couleur du genre,l'age et la durée du parcours\n",
    "#Utilisation du facetage avec la fonction facetgrid de seaborn\n",
    "g = sn.FacetGrid(data = df_master, hue = 'member_gender', size = 5)\n",
    "g.map(plt.scatter,'age_member', 'duration_sec')\n",
    "g.add_legend()"
   ]
  },
  {
   "cell_type": "markdown",
   "id": "73971671",
   "metadata": {},
   "source": [
    "**Observation:** On remarque que quelque soit leur genre à age égal la durée du parcours est la meme dans les compétitions."
   ]
  },
  {
   "cell_type": "markdown",
   "id": "3792d214",
   "metadata": {},
   "source": [
    "**Quel relation entre le genre,le type de client,la distance parcourue,et la durée de la course ?**"
   ]
  },
  {
   "cell_type": "code",
   "execution_count": 70,
   "id": "0ff1bdb6",
   "metadata": {},
   "outputs": [
    {
     "name": "stderr",
     "output_type": "stream",
     "text": [
      "/home/dngan/anaconda3/lib/python3.9/site-packages/seaborn/axisgrid.py:337: UserWarning: The `size` parameter has been renamed to `height`; please update your code.\n",
      "  warnings.warn(msg, UserWarning)\n"
     ]
    },
    {
     "data": {
      "text/plain": [
       "<seaborn.axisgrid.FacetGrid at 0x7fdbdf09cdc0>"
      ]
     },
     "execution_count": 70,
     "metadata": {},
     "output_type": "execute_result"
    },
    {
     "data": {
      "image/png": "[encoded data removed]",
      "text/plain": [
       "<Figure size 750x500 with 6 Axes>"
      ]
     },
     "metadata": {},
     "output_type": "display_data"
    }
   ],
   "source": [
    "#Utilisation de la methode FacetGrid\n",
    "#Utilisons la fonction pairgrid de seaborn\n",
    "g = sn.FacetGrid(data = df_master, col = 'member_gender', row = 'user_type', size = 2.5,\n",
    "margin_titles = True)\n",
    "g.map(plt.scatter, 'duration_sec', 'distance_trav')"
   ]
  },
  {
   "cell_type": "markdown",
   "id": "6e249c67",
   "metadata": {},
   "source": [
    "**Observation:** On remarque que la distance et la durée du parcours est une constance quelque soit le genre d'utilisateur ainsi que son type"
   ]
  },
  {
   "cell_type": "markdown",
   "id": "52b33743",
   "metadata": {},
   "source": [
    "**Quel relation entre le genre,les jours de la semaine et la durée de parcours?**"
   ]
  },
  {
   "cell_type": "code",
   "execution_count": 71,
   "id": "8c517e8a",
   "metadata": {},
   "outputs": [
    {
     "data": {
      "text/plain": [
       "<AxesSubplot:xlabel='member_gender', ylabel='start_time_weekday'>"
      ]
     },
     "execution_count": 71,
     "metadata": {},
     "output_type": "execute_result"
    },
    {
     "data": {
      "image/png": "[encoded data removed]",
      "text/plain": [
       "<Figure size 640x480 with 2 Axes>"
      ]
     },
     "metadata": {},
     "output_type": "display_data"
    }
   ],
   "source": [
    "#Encodage par la couleur du genre,les jours de la semaine et la durée du parcours\n",
    "#Utilisation de heatmap de seaborn\n",
    "cat_means = df_master.groupby(['member_gender','start_time_weekday']).mean()['duration_sec']\n",
    "cat_means = cat_means.reset_index(name = 'duration_sec_avg')\n",
    "cat_means = cat_means.pivot(index = 'start_time_weekday', columns = 'member_gender',\n",
    "values = 'duration_sec_avg')\n",
    "sn.heatmap(cat_means, annot = True, fmt = '.3f',\n",
    "cbar_kws = {'label' : 'mean(duration_sec)'})"
   ]
  },
  {
   "cell_type": "markdown",
   "id": "66606a9f",
   "metadata": {},
   "source": [
    "**Observation:** On remarque qu'en considérant la durée des courses par semaine en moyenne les autres genres durent beaucoup plus longtemps que les hommes et les femmes."
   ]
  },
  {
   "cell_type": "markdown",
   "id": "a0502133",
   "metadata": {},
   "source": [
    "**Parlez de certaines des relations que vous avez observées dans cette partie de l'enquête. Y a-t-il eu des fonctionnalités qui se sont renforcées en termes d'examen de vos fonctionnalités d'intérêt ?**\n",
    "\n",
    "Dans cette partie nous nous sommes attardé sur les relations suivantes:\n",
    "\n",
    "- Le genre,l'age et la durée de parcours et il nous a été donné de remarquer que la durée du parcours ne dépends pas du genre ou de l'age des participants car les les distributions ce superposent entre elles.Mais néanmoins les hommes se distinguent quelque peu et cela est assez logique si nous regardons cela dans le prisme des performances athlétiques.\n",
    "\n",
    "- La distance et la durée du parcours ne dependent pas vraiment du genre car ils evoluent de facon linéaire"
   ]
  },
  {
   "cell_type": "markdown",
   "id": "15cedbdd",
   "metadata": {},
   "source": [
    "**Y a-t-il eu des interactions intéressantes ou surprenantes entre les fonctionnalités ?**\n",
    "\n",
    "- Au regards des informations que nous avons recu au début de notre etude l'exploration multivariée nous a permis plutot de consolider nos acquis de départ.\n",
    "- l'analyse multivariée nous a permis de remarquer que les autres genres sont beaucoup plus actives le week-ends que les hommes et les femmes remarque que l'analyse bivariée ne nous avait pas permis de faire."
   ]
  },
  {
   "cell_type": "markdown",
   "id": "e8a4b2ba",
   "metadata": {},
   "source": [
    "## Conclusion\n",
    "\n",
    "En définitive notre travail a permis de mettre en exergue dans ce jeu de données les conclusions suivantes:\n",
    "\n",
    "- Les hommes participent le plus aux courses que les autres genres(femmes,autres)\n",
    "\n",
    "- Les week-ends(samedi,dimanche) sont les journées ou les trois genres participent le moins aux courses et le jeudi est la journée ou le taux de participation est la plus elevé.\n",
    "\n",
    "- Les autres genres mettent plus de temps dans les courses le week_end que les autres sexes\n",
    "\n",
    "- Quelque soit le genre l'age minimum de participation a la course est de 18 ans et maximum 60 ans\n",
    "\n",
    "- Les hommes sollicitent le plus les vélos de partagés\n",
    "\n"
   ]
  }
 ],
 "metadata": {
  "kernelspec": {
   "display_name": "Python 3 (ipykernel)",
   "language": "python",
   "name": "python3"
  },
  "language_info": {
   "codemirror_mode": {
    "name": "ipython",
    "version": 3
   },
   "file_extension": ".py",
   "mimetype": "text/x-python",
   "name": "python",
   "nbconvert_exporter": "python",
   "pygments_lexer": "ipython3",
   "version": "3.9.13"
  }
 },
 "nbformat": 4,
 "nbformat_minor": 5
}
